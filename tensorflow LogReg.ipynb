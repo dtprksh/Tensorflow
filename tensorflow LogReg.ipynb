{
 "cells": [
  {
   "cell_type": "code",
   "execution_count": 2,
   "metadata": {},
   "outputs": [],
   "source": [
    "import pandas as pd"
   ]
  },
  {
   "cell_type": "code",
   "execution_count": 4,
   "metadata": {},
   "outputs": [],
   "source": [
    "df=pd.read_csv('C:\\\\Users\\\\Q-Admin\\\\Downloads\\\\diabetes.csv')"
   ]
  },
  {
   "cell_type": "code",
   "execution_count": 5,
   "metadata": {},
   "outputs": [
    {
     "data": {
      "text/html": [
       "<div>\n",
       "<style scoped>\n",
       "    .dataframe tbody tr th:only-of-type {\n",
       "        vertical-align: middle;\n",
       "    }\n",
       "\n",
       "    .dataframe tbody tr th {\n",
       "        vertical-align: top;\n",
       "    }\n",
       "\n",
       "    .dataframe thead th {\n",
       "        text-align: right;\n",
       "    }\n",
       "</style>\n",
       "<table border=\"1\" class=\"dataframe\">\n",
       "  <thead>\n",
       "    <tr style=\"text-align: right;\">\n",
       "      <th></th>\n",
       "      <th>Pregnancies</th>\n",
       "      <th>Glucose</th>\n",
       "      <th>BloodPressure</th>\n",
       "      <th>SkinThickness</th>\n",
       "      <th>Insulin</th>\n",
       "      <th>BMI</th>\n",
       "      <th>DiabetesPedigreeFunction</th>\n",
       "      <th>Age</th>\n",
       "      <th>Outcome</th>\n",
       "    </tr>\n",
       "  </thead>\n",
       "  <tbody>\n",
       "    <tr>\n",
       "      <th>0</th>\n",
       "      <td>6</td>\n",
       "      <td>148</td>\n",
       "      <td>72</td>\n",
       "      <td>35</td>\n",
       "      <td>0</td>\n",
       "      <td>33.6</td>\n",
       "      <td>0.627</td>\n",
       "      <td>50</td>\n",
       "      <td>1</td>\n",
       "    </tr>\n",
       "    <tr>\n",
       "      <th>1</th>\n",
       "      <td>1</td>\n",
       "      <td>85</td>\n",
       "      <td>66</td>\n",
       "      <td>29</td>\n",
       "      <td>0</td>\n",
       "      <td>26.6</td>\n",
       "      <td>0.351</td>\n",
       "      <td>31</td>\n",
       "      <td>0</td>\n",
       "    </tr>\n",
       "    <tr>\n",
       "      <th>2</th>\n",
       "      <td>8</td>\n",
       "      <td>183</td>\n",
       "      <td>64</td>\n",
       "      <td>0</td>\n",
       "      <td>0</td>\n",
       "      <td>23.3</td>\n",
       "      <td>0.672</td>\n",
       "      <td>32</td>\n",
       "      <td>1</td>\n",
       "    </tr>\n",
       "    <tr>\n",
       "      <th>3</th>\n",
       "      <td>1</td>\n",
       "      <td>89</td>\n",
       "      <td>66</td>\n",
       "      <td>23</td>\n",
       "      <td>94</td>\n",
       "      <td>28.1</td>\n",
       "      <td>0.167</td>\n",
       "      <td>21</td>\n",
       "      <td>0</td>\n",
       "    </tr>\n",
       "    <tr>\n",
       "      <th>4</th>\n",
       "      <td>0</td>\n",
       "      <td>137</td>\n",
       "      <td>40</td>\n",
       "      <td>35</td>\n",
       "      <td>168</td>\n",
       "      <td>43.1</td>\n",
       "      <td>2.288</td>\n",
       "      <td>33</td>\n",
       "      <td>1</td>\n",
       "    </tr>\n",
       "  </tbody>\n",
       "</table>\n",
       "</div>"
      ],
      "text/plain": [
       "   Pregnancies  Glucose  BloodPressure  SkinThickness  Insulin   BMI  \\\n",
       "0            6      148             72             35        0  33.6   \n",
       "1            1       85             66             29        0  26.6   \n",
       "2            8      183             64              0        0  23.3   \n",
       "3            1       89             66             23       94  28.1   \n",
       "4            0      137             40             35      168  43.1   \n",
       "\n",
       "   DiabetesPedigreeFunction  Age  Outcome  \n",
       "0                     0.627   50        1  \n",
       "1                     0.351   31        0  \n",
       "2                     0.672   32        1  \n",
       "3                     0.167   21        0  \n",
       "4                     2.288   33        1  "
      ]
     },
     "execution_count": 5,
     "metadata": {},
     "output_type": "execute_result"
    }
   ],
   "source": [
    "df.head()"
   ]
  },
  {
   "cell_type": "code",
   "execution_count": 6,
   "metadata": {},
   "outputs": [
    {
     "data": {
      "text/plain": [
       "Index(['Pregnancies', 'Glucose', 'BloodPressure', 'SkinThickness', 'Insulin',\n",
       "       'BMI', 'DiabetesPedigreeFunction', 'Age', 'Outcome'],\n",
       "      dtype='object')"
      ]
     },
     "execution_count": 6,
     "metadata": {},
     "output_type": "execute_result"
    }
   ],
   "source": [
    "df.columns"
   ]
  },
  {
   "cell_type": "code",
   "execution_count": 7,
   "metadata": {},
   "outputs": [],
   "source": [
    "col_to_norm=['Pregnancies', 'Glucose', 'BloodPressure', 'SkinThickness', 'Insulin',\n",
    "       'BMI', 'DiabetesPedigreeFunction']"
   ]
  },
  {
   "cell_type": "code",
   "execution_count": 8,
   "metadata": {},
   "outputs": [],
   "source": [
    "df[col_to_norm]=df[col_to_norm].apply(lambda x:(x-x.min())/(x.max()-x.min()))"
   ]
  },
  {
   "cell_type": "code",
   "execution_count": 9,
   "metadata": {
    "scrolled": true
   },
   "outputs": [
    {
     "data": {
      "text/html": [
       "<div>\n",
       "<style scoped>\n",
       "    .dataframe tbody tr th:only-of-type {\n",
       "        vertical-align: middle;\n",
       "    }\n",
       "\n",
       "    .dataframe tbody tr th {\n",
       "        vertical-align: top;\n",
       "    }\n",
       "\n",
       "    .dataframe thead th {\n",
       "        text-align: right;\n",
       "    }\n",
       "</style>\n",
       "<table border=\"1\" class=\"dataframe\">\n",
       "  <thead>\n",
       "    <tr style=\"text-align: right;\">\n",
       "      <th></th>\n",
       "      <th>Pregnancies</th>\n",
       "      <th>Glucose</th>\n",
       "      <th>BloodPressure</th>\n",
       "      <th>SkinThickness</th>\n",
       "      <th>Insulin</th>\n",
       "      <th>BMI</th>\n",
       "      <th>DiabetesPedigreeFunction</th>\n",
       "      <th>Age</th>\n",
       "      <th>Outcome</th>\n",
       "    </tr>\n",
       "  </thead>\n",
       "  <tbody>\n",
       "    <tr>\n",
       "      <th>0</th>\n",
       "      <td>0.352941</td>\n",
       "      <td>0.743719</td>\n",
       "      <td>0.590164</td>\n",
       "      <td>0.353535</td>\n",
       "      <td>0.000000</td>\n",
       "      <td>0.500745</td>\n",
       "      <td>0.234415</td>\n",
       "      <td>50</td>\n",
       "      <td>1</td>\n",
       "    </tr>\n",
       "    <tr>\n",
       "      <th>1</th>\n",
       "      <td>0.058824</td>\n",
       "      <td>0.427136</td>\n",
       "      <td>0.540984</td>\n",
       "      <td>0.292929</td>\n",
       "      <td>0.000000</td>\n",
       "      <td>0.396423</td>\n",
       "      <td>0.116567</td>\n",
       "      <td>31</td>\n",
       "      <td>0</td>\n",
       "    </tr>\n",
       "    <tr>\n",
       "      <th>2</th>\n",
       "      <td>0.470588</td>\n",
       "      <td>0.919598</td>\n",
       "      <td>0.524590</td>\n",
       "      <td>0.000000</td>\n",
       "      <td>0.000000</td>\n",
       "      <td>0.347243</td>\n",
       "      <td>0.253629</td>\n",
       "      <td>32</td>\n",
       "      <td>1</td>\n",
       "    </tr>\n",
       "    <tr>\n",
       "      <th>3</th>\n",
       "      <td>0.058824</td>\n",
       "      <td>0.447236</td>\n",
       "      <td>0.540984</td>\n",
       "      <td>0.232323</td>\n",
       "      <td>0.111111</td>\n",
       "      <td>0.418778</td>\n",
       "      <td>0.038002</td>\n",
       "      <td>21</td>\n",
       "      <td>0</td>\n",
       "    </tr>\n",
       "    <tr>\n",
       "      <th>4</th>\n",
       "      <td>0.000000</td>\n",
       "      <td>0.688442</td>\n",
       "      <td>0.327869</td>\n",
       "      <td>0.353535</td>\n",
       "      <td>0.198582</td>\n",
       "      <td>0.642325</td>\n",
       "      <td>0.943638</td>\n",
       "      <td>33</td>\n",
       "      <td>1</td>\n",
       "    </tr>\n",
       "  </tbody>\n",
       "</table>\n",
       "</div>"
      ],
      "text/plain": [
       "   Pregnancies   Glucose  BloodPressure  SkinThickness   Insulin       BMI  \\\n",
       "0     0.352941  0.743719       0.590164       0.353535  0.000000  0.500745   \n",
       "1     0.058824  0.427136       0.540984       0.292929  0.000000  0.396423   \n",
       "2     0.470588  0.919598       0.524590       0.000000  0.000000  0.347243   \n",
       "3     0.058824  0.447236       0.540984       0.232323  0.111111  0.418778   \n",
       "4     0.000000  0.688442       0.327869       0.353535  0.198582  0.642325   \n",
       "\n",
       "   DiabetesPedigreeFunction  Age  Outcome  \n",
       "0                  0.234415   50        1  \n",
       "1                  0.116567   31        0  \n",
       "2                  0.253629   32        1  \n",
       "3                  0.038002   21        0  \n",
       "4                  0.943638   33        1  "
      ]
     },
     "execution_count": 9,
     "metadata": {},
     "output_type": "execute_result"
    }
   ],
   "source": [
    "df.head()"
   ]
  },
  {
   "cell_type": "code",
   "execution_count": 11,
   "metadata": {},
   "outputs": [
    {
     "name": "stderr",
     "output_type": "stream",
     "text": [
      "C:\\Users\\Q-Admin\\Anaconda3\\lib\\site-packages\\h5py\\__init__.py:36: FutureWarning: Conversion of the second argument of issubdtype from `float` to `np.floating` is deprecated. In future, it will be treated as `np.float64 == np.dtype(float).type`.\n",
      "  from ._conv import register_converters as _register_converters\n"
     ]
    }
   ],
   "source": [
    "import tensorflow as tf\n",
    "import matplotlib.pyplot as plt\n",
    "%matplotlib inline"
   ]
  },
  {
   "cell_type": "code",
   "execution_count": 12,
   "metadata": {},
   "outputs": [],
   "source": [
    "preg=tf.feature_column.numeric_column('Pregnancies')\n",
    "gluc=tf.feature_column.numeric_column('Glucose')\n",
    "bp=tf.feature_column.numeric_column('BloodPressure')\n",
    "st=tf.feature_column.numeric_column('SkinThickness')\n",
    "inslin=tf.feature_column.numeric_column('Insulin')\n",
    "bmi=tf.feature_column.numeric_column('BMI')\n",
    "dpf=tf.feature_column.numeric_column('DiabetesPedigreeFunction')\n",
    "age=tf.feature_column.numeric_column('Age')"
   ]
  },
  {
   "cell_type": "code",
   "execution_count": 13,
   "metadata": {},
   "outputs": [
    {
     "data": {
      "text/plain": [
       "<matplotlib.axes._subplots.AxesSubplot at 0xbc34f46a20>"
      ]
     },
     "execution_count": 13,
     "metadata": {},
     "output_type": "execute_result"
    },
    {
     "data": {
      "image/png": "[encoded data removed]",
      "text/plain": [
       "<matplotlib.figure.Figure at 0xbc34f46470>"
      ]
     },
     "metadata": {},
     "output_type": "display_data"
    }
   ],
   "source": [
    "df.Age.hist(bins=20)"
   ]
  },
  {
   "cell_type": "code",
   "execution_count": 14,
   "metadata": {},
   "outputs": [],
   "source": [
    "age_bucket=tf.feature_column.bucketized_column(age,boundaries=[20,30,40,50,60,70,80])"
   ]
  },
  {
   "cell_type": "code",
   "execution_count": 15,
   "metadata": {},
   "outputs": [],
   "source": [
    "feat_cols=[preg,gluc,bp,st,inslin,bmi,dpf,age_bucket]"
   ]
  },
  {
   "cell_type": "code",
   "execution_count": 16,
   "metadata": {},
   "outputs": [
    {
     "data": {
      "text/plain": [
       "0    1\n",
       "1    0\n",
       "2    1\n",
       "3    0\n",
       "4    1\n",
       "Name: Outcome, dtype: int64"
      ]
     },
     "execution_count": 16,
     "metadata": {},
     "output_type": "execute_result"
    }
   ],
   "source": [
    "labels=df.Outcome\n",
    "labels.head()"
   ]
  },
  {
   "cell_type": "code",
   "execution_count": 19,
   "metadata": {},
   "outputs": [],
   "source": [
    "x=df.drop('Outcome',axis=1)"
   ]
  },
  {
   "cell_type": "code",
   "execution_count": 20,
   "metadata": {},
   "outputs": [
    {
     "data": {
      "text/html": [
       "<div>\n",
       "<style scoped>\n",
       "    .dataframe tbody tr th:only-of-type {\n",
       "        vertical-align: middle;\n",
       "    }\n",
       "\n",
       "    .dataframe tbody tr th {\n",
       "        vertical-align: top;\n",
       "    }\n",
       "\n",
       "    .dataframe thead th {\n",
       "        text-align: right;\n",
       "    }\n",
       "</style>\n",
       "<table border=\"1\" class=\"dataframe\">\n",
       "  <thead>\n",
       "    <tr style=\"text-align: right;\">\n",
       "      <th></th>\n",
       "      <th>Pregnancies</th>\n",
       "      <th>Glucose</th>\n",
       "      <th>BloodPressure</th>\n",
       "      <th>SkinThickness</th>\n",
       "      <th>Insulin</th>\n",
       "      <th>BMI</th>\n",
       "      <th>DiabetesPedigreeFunction</th>\n",
       "      <th>Age</th>\n",
       "    </tr>\n",
       "  </thead>\n",
       "  <tbody>\n",
       "    <tr>\n",
       "      <th>0</th>\n",
       "      <td>0.352941</td>\n",
       "      <td>0.743719</td>\n",
       "      <td>0.590164</td>\n",
       "      <td>0.353535</td>\n",
       "      <td>0.000000</td>\n",
       "      <td>0.500745</td>\n",
       "      <td>0.234415</td>\n",
       "      <td>50</td>\n",
       "    </tr>\n",
       "    <tr>\n",
       "      <th>1</th>\n",
       "      <td>0.058824</td>\n",
       "      <td>0.427136</td>\n",
       "      <td>0.540984</td>\n",
       "      <td>0.292929</td>\n",
       "      <td>0.000000</td>\n",
       "      <td>0.396423</td>\n",
       "      <td>0.116567</td>\n",
       "      <td>31</td>\n",
       "    </tr>\n",
       "    <tr>\n",
       "      <th>2</th>\n",
       "      <td>0.470588</td>\n",
       "      <td>0.919598</td>\n",
       "      <td>0.524590</td>\n",
       "      <td>0.000000</td>\n",
       "      <td>0.000000</td>\n",
       "      <td>0.347243</td>\n",
       "      <td>0.253629</td>\n",
       "      <td>32</td>\n",
       "    </tr>\n",
       "    <tr>\n",
       "      <th>3</th>\n",
       "      <td>0.058824</td>\n",
       "      <td>0.447236</td>\n",
       "      <td>0.540984</td>\n",
       "      <td>0.232323</td>\n",
       "      <td>0.111111</td>\n",
       "      <td>0.418778</td>\n",
       "      <td>0.038002</td>\n",
       "      <td>21</td>\n",
       "    </tr>\n",
       "    <tr>\n",
       "      <th>4</th>\n",
       "      <td>0.000000</td>\n",
       "      <td>0.688442</td>\n",
       "      <td>0.327869</td>\n",
       "      <td>0.353535</td>\n",
       "      <td>0.198582</td>\n",
       "      <td>0.642325</td>\n",
       "      <td>0.943638</td>\n",
       "      <td>33</td>\n",
       "    </tr>\n",
       "  </tbody>\n",
       "</table>\n",
       "</div>"
      ],
      "text/plain": [
       "   Pregnancies   Glucose  BloodPressure  SkinThickness   Insulin       BMI  \\\n",
       "0     0.352941  0.743719       0.590164       0.353535  0.000000  0.500745   \n",
       "1     0.058824  0.427136       0.540984       0.292929  0.000000  0.396423   \n",
       "2     0.470588  0.919598       0.524590       0.000000  0.000000  0.347243   \n",
       "3     0.058824  0.447236       0.540984       0.232323  0.111111  0.418778   \n",
       "4     0.000000  0.688442       0.327869       0.353535  0.198582  0.642325   \n",
       "\n",
       "   DiabetesPedigreeFunction  Age  \n",
       "0                  0.234415   50  \n",
       "1                  0.116567   31  \n",
       "2                  0.253629   32  \n",
       "3                  0.038002   21  \n",
       "4                  0.943638   33  "
      ]
     },
     "execution_count": 20,
     "metadata": {},
     "output_type": "execute_result"
    }
   ],
   "source": [
    "x.head()"
   ]
  },
  {
   "cell_type": "code",
   "execution_count": 21,
   "metadata": {},
   "outputs": [],
   "source": [
    "from sklearn.model_selection import train_test_split"
   ]
  },
  {
   "cell_type": "code",
   "execution_count": 29,
   "metadata": {},
   "outputs": [],
   "source": [
    "X_train,X_test,y_train,y_test=train_test_split(x,labels,test_size=0.3)"
   ]
  },
  {
   "cell_type": "code",
   "execution_count": 32,
   "metadata": {},
   "outputs": [],
   "source": [
    "input_func=tf.estimator.inputs.pandas_input_fn(x=X_train,y=y_train,batch_size=10,shuffle=True,num_epochs=1000)"
   ]
  },
  {
   "cell_type": "code",
   "execution_count": 33,
   "metadata": {},
   "outputs": [
    {
     "name": "stdout",
     "output_type": "stream",
     "text": [
      "INFO:tensorflow:Using default config.\n",
      "WARNING:tensorflow:Using temporary folder as model directory: C:\\Users\\Q-Admin\\AppData\\Local\\Temp\\tmp6_7x38u8\n",
      "INFO:tensorflow:Using config: {'_model_dir': 'C:\\\\Users\\\\Q-Admin\\\\AppData\\\\Local\\\\Temp\\\\tmp6_7x38u8', '_tf_random_seed': None, '_save_summary_steps': 100, '_save_checkpoints_steps': None, '_save_checkpoints_secs': 600, '_session_config': None, '_keep_checkpoint_max': 5, '_keep_checkpoint_every_n_hours': 10000, '_log_step_count_steps': 100, '_train_distribute': None, '_service': None, '_cluster_spec': <tensorflow.python.training.server_lib.ClusterSpec object at 0x000000BC382F2A20>, '_task_type': 'worker', '_task_id': 0, '_global_id_in_cluster': 0, '_master': '', '_evaluation_master': '', '_is_chief': True, '_num_ps_replicas': 0, '_num_worker_replicas': 1}\n"
     ]
    }
   ],
   "source": [
    "model=tf.estimator.LinearClassifier(feature_columns=feat_cols,n_classes=2)"
   ]
  },
  {
   "cell_type": "code",
   "execution_count": 34,
   "metadata": {},
   "outputs": [
    {
     "name": "stdout",
     "output_type": "stream",
     "text": [
      "INFO:tensorflow:Calling model_fn.\n",
      "INFO:tensorflow:Done calling model_fn.\n",
      "INFO:tensorflow:Create CheckpointSaverHook.\n",
      "INFO:tensorflow:Graph was finalized.\n",
      "INFO:tensorflow:Running local_init_op.\n",
      "INFO:tensorflow:Done running local_init_op.\n",
      "INFO:tensorflow:Saving checkpoints for 1 into C:\\Users\\Q-Admin\\AppData\\Local\\Temp\\tmp6_7x38u8\\model.ckpt.\n",
      "INFO:tensorflow:loss = 6.931472, step = 1\n",
      "INFO:tensorflow:global_step/sec: 439.311\n",
      "INFO:tensorflow:loss = 6.242195, step = 101 (0.229 sec)\n",
      "INFO:tensorflow:global_step/sec: 687.92\n",
      "INFO:tensorflow:loss = 5.454091, step = 201 (0.146 sec)\n",
      "INFO:tensorflow:global_step/sec: 733.247\n",
      "INFO:tensorflow:loss = 6.4424686, step = 301 (0.137 sec)\n",
      "INFO:tensorflow:global_step/sec: 725.376\n",
      "INFO:tensorflow:loss = 7.1921687, step = 401 (0.138 sec)\n",
      "INFO:tensorflow:global_step/sec: 695.093\n",
      "INFO:tensorflow:loss = 5.0428658, step = 501 (0.145 sec)\n",
      "INFO:tensorflow:global_step/sec: 664.845\n",
      "INFO:tensorflow:loss = 5.61138, step = 601 (0.148 sec)\n",
      "INFO:tensorflow:global_step/sec: 704.752\n",
      "INFO:tensorflow:loss = 5.1504493, step = 701 (0.143 sec)\n",
      "INFO:tensorflow:global_step/sec: 700.013\n",
      "INFO:tensorflow:loss = 2.8736281, step = 801 (0.142 sec)\n",
      "INFO:tensorflow:global_step/sec: 727.996\n",
      "INFO:tensorflow:loss = 6.0029125, step = 901 (0.139 sec)\n",
      "INFO:tensorflow:Saving checkpoints for 1000 into C:\\Users\\Q-Admin\\AppData\\Local\\Temp\\tmp6_7x38u8\\model.ckpt.\n",
      "INFO:tensorflow:Loss for final step: 4.485228.\n"
     ]
    },
    {
     "data": {
      "text/plain": [
       "<tensorflow.python.estimator.canned.linear.LinearClassifier at 0xbc3538bbe0>"
      ]
     },
     "execution_count": 34,
     "metadata": {},
     "output_type": "execute_result"
    }
   ],
   "source": [
    "model.train(input_fn=input_func,steps=1000)"
   ]
  },
  {
   "cell_type": "code",
   "execution_count": 36,
   "metadata": {},
   "outputs": [],
   "source": [
    "test_input_func=tf.estimator.inputs.pandas_input_fn(x=X_test,y=y_test,batch_size=10,num_epochs=1,shuffle=False)"
   ]
  },
  {
   "cell_type": "code",
   "execution_count": 37,
   "metadata": {},
   "outputs": [
    {
     "name": "stdout",
     "output_type": "stream",
     "text": [
      "INFO:tensorflow:Calling model_fn.\n",
      "WARNING:tensorflow:Trapezoidal rule is known to produce incorrect PR-AUCs; please switch to \"careful_interpolation\" instead.\n",
      "WARNING:tensorflow:Trapezoidal rule is known to produce incorrect PR-AUCs; please switch to \"careful_interpolation\" instead.\n",
      "INFO:tensorflow:Done calling model_fn.\n",
      "INFO:tensorflow:Starting evaluation at 2018-06-05-09:23:49\n",
      "INFO:tensorflow:Graph was finalized.\n",
      "INFO:tensorflow:Restoring parameters from C:\\Users\\Q-Admin\\AppData\\Local\\Temp\\tmp6_7x38u8\\model.ckpt-1000\n",
      "INFO:tensorflow:Running local_init_op.\n",
      "INFO:tensorflow:Done running local_init_op.\n",
      "INFO:tensorflow:Finished evaluation at 2018-06-05-09:23:49\n",
      "INFO:tensorflow:Saving dict for global step 1000: accuracy = 0.6666667, accuracy_baseline = 0.6450217, auc = 0.74365693, auc_precision_recall = 0.5746633, average_loss = 0.59320986, global_step = 1000, label/mean = 0.35497835, loss = 5.709645, precision = 0.6923077, prediction/mean = 0.31822166, recall = 0.1097561\n"
     ]
    }
   ],
   "source": [
    "results=model.evaluate(test_input_func)"
   ]
  },
  {
   "cell_type": "code",
   "execution_count": 38,
   "metadata": {},
   "outputs": [
    {
     "name": "stdout",
     "output_type": "stream",
     "text": [
      "{'accuracy': 0.6666667, 'accuracy_baseline': 0.6450217, 'auc': 0.74365693, 'auc_precision_recall': 0.5746633, 'average_loss': 0.59320986, 'label/mean': 0.35497835, 'loss': 5.709645, 'precision': 0.6923077, 'prediction/mean': 0.31822166, 'recall': 0.1097561, 'global_step': 1000}\n"
     ]
    }
   ],
   "source": [
    "print(results)"
   ]
  },
  {
   "cell_type": "code",
   "execution_count": 39,
   "metadata": {},
   "outputs": [],
   "source": [
    "pred_input_func=tf.estimator.inputs.pandas_input_fn(x=X_test,batch_size=10,num_epochs=1,shuffle=False)"
   ]
  },
  {
   "cell_type": "code",
   "execution_count": 41,
   "metadata": {},
   "outputs": [],
   "source": [
    "predictions=model.predict(pred_input_func)"
   ]
  },
  {
   "cell_type": "code",
   "execution_count": 42,
   "metadata": {},
   "outputs": [
    {
     "name": "stdout",
     "output_type": "stream",
     "text": [
      "INFO:tensorflow:Calling model_fn.\n",
      "INFO:tensorflow:Done calling model_fn.\n",
      "INFO:tensorflow:Graph was finalized.\n",
      "INFO:tensorflow:Restoring parameters from C:\\Users\\Q-Admin\\AppData\\Local\\Temp\\tmp6_7x38u8\\model.ckpt-1000\n",
      "INFO:tensorflow:Running local_init_op.\n",
      "INFO:tensorflow:Done running local_init_op.\n"
     ]
    }
   ],
   "source": [
    "my_pred=list(predictions)"
   ]
  },
  {
   "cell_type": "code",
   "execution_count": 43,
   "metadata": {},
   "outputs": [
    {
     "name": "stdout",
     "output_type": "stream",
     "text": [
      "[{'logits': array([-1.2440252], dtype=float32), 'logistic': array([0.22373612], dtype=float32), 'probabilities': array([0.7762639, 0.2237361], dtype=float32), 'class_ids': array([0], dtype=int64), 'classes': array([b'0'], dtype=object)}, {'logits': array([-0.34466457], dtype=float32), 'logistic': array([0.41467685], dtype=float32), 'probabilities': array([0.58532315, 0.41467685], dtype=float32), 'class_ids': array([0], dtype=int64), 'classes': array([b'0'], dtype=object)}, {'logits': array([-0.81178176], dtype=float32), 'logistic': array([0.30751094], dtype=float32), 'probabilities': array([0.692489  , 0.30751094], dtype=float32), 'class_ids': array([0], dtype=int64), 'classes': array([b'0'], dtype=object)}, {'logits': array([-0.00381899], dtype=float32), 'logistic': array([0.49904528], dtype=float32), 'probabilities': array([0.50095475, 0.49904525], dtype=float32), 'class_ids': array([0], dtype=int64), 'classes': array([b'0'], dtype=object)}, {'logits': array([-1.2383277], dtype=float32), 'logistic': array([0.2247272], dtype=float32), 'probabilities': array([0.7752728 , 0.22472718], dtype=float32), 'class_ids': array([0], dtype=int64), 'classes': array([b'0'], dtype=object)}, {'logits': array([-0.42548108], dtype=float32), 'logistic': array([0.39520594], dtype=float32), 'probabilities': array([0.6047941 , 0.39520594], dtype=float32), 'class_ids': array([0], dtype=int64), 'classes': array([b'0'], dtype=object)}, {'logits': array([-1.0240166], dtype=float32), 'logistic': array([0.26424575], dtype=float32), 'probabilities': array([0.73575425, 0.26424575], dtype=float32), 'class_ids': array([0], dtype=int64), 'classes': array([b'0'], dtype=object)}, {'logits': array([-0.11733556], dtype=float32), 'logistic': array([0.47069973], dtype=float32), 'probabilities': array([0.5293003 , 0.47069973], dtype=float32), 'class_ids': array([0], dtype=int64), 'classes': array([b'0'], dtype=object)}, {'logits': array([-0.44755888], dtype=float32), 'logistic': array([0.38994133], dtype=float32), 'probabilities': array([0.61005867, 0.3899413 ], dtype=float32), 'class_ids': array([0], dtype=int64), 'classes': array([b'0'], dtype=object)}, {'logits': array([-0.50110924], dtype=float32), 'logistic': array([0.37728003], dtype=float32), 'probabilities': array([0.62271994, 0.37728003], dtype=float32), 'class_ids': array([0], dtype=int64), 'classes': array([b'0'], dtype=object)}, {'logits': array([-1.0803459], dtype=float32), 'logistic': array([0.25344056], dtype=float32), 'probabilities': array([0.7465595, 0.2534406], dtype=float32), 'class_ids': array([0], dtype=int64), 'classes': array([b'0'], dtype=object)}, {'logits': array([-0.8381523], dtype=float32), 'logistic': array([0.30192408], dtype=float32), 'probabilities': array([0.6980759 , 0.30192408], dtype=float32), 'class_ids': array([0], dtype=int64), 'classes': array([b'0'], dtype=object)}, {'logits': array([-0.554137], dtype=float32), 'logistic': array([0.36490512], dtype=float32), 'probabilities': array([0.6350949 , 0.36490515], dtype=float32), 'class_ids': array([0], dtype=int64), 'classes': array([b'0'], dtype=object)}, {'logits': array([-0.38158834], dtype=float32), 'logistic': array([0.40574384], dtype=float32), 'probabilities': array([0.5942561 , 0.40574387], dtype=float32), 'class_ids': array([0], dtype=int64), 'classes': array([b'0'], dtype=object)}, {'logits': array([-0.66355634], dtype=float32), 'logistic': array([0.3399412], dtype=float32), 'probabilities': array([0.6600588 , 0.33994117], dtype=float32), 'class_ids': array([0], dtype=int64), 'classes': array([b'0'], dtype=object)}, {'logits': array([-0.53945196], dtype=float32), 'logistic': array([0.36831507], dtype=float32), 'probabilities': array([0.63168496, 0.3683151 ], dtype=float32), 'class_ids': array([0], dtype=int64), 'classes': array([b'0'], dtype=object)}, {'logits': array([-1.1715124], dtype=float32), 'logistic': array([0.23658173], dtype=float32), 'probabilities': array([0.76341826, 0.23658171], dtype=float32), 'class_ids': array([0], dtype=int64), 'classes': array([b'0'], dtype=object)}, {'logits': array([-1.0259917], dtype=float32), 'logistic': array([0.26386192], dtype=float32), 'probabilities': array([0.73613805, 0.26386192], dtype=float32), 'class_ids': array([0], dtype=int64), 'classes': array([b'0'], dtype=object)}, {'logits': array([-1.0352609], dtype=float32), 'logistic': array([0.26206544], dtype=float32), 'probabilities': array([0.7379345 , 0.26206544], dtype=float32), 'class_ids': array([0], dtype=int64), 'classes': array([b'0'], dtype=object)}, {'logits': array([-1.2726277], dtype=float32), 'logistic': array([0.21880776], dtype=float32), 'probabilities': array([0.78119224, 0.21880777], dtype=float32), 'class_ids': array([0], dtype=int64), 'classes': array([b'0'], dtype=object)}, {'logits': array([1.4796596], dtype=float32), 'logistic': array([0.81452113], dtype=float32), 'probabilities': array([0.18547884, 0.81452113], dtype=float32), 'class_ids': array([1], dtype=int64), 'classes': array([b'1'], dtype=object)}, {'logits': array([-0.6150868], dtype=float32), 'logistic': array([0.3508997], dtype=float32), 'probabilities': array([0.6491003 , 0.35089973], dtype=float32), 'class_ids': array([0], dtype=int64), 'classes': array([b'0'], dtype=object)}, {'logits': array([-0.48061085], dtype=float32), 'logistic': array([0.38210788], dtype=float32), 'probabilities': array([0.6178921 , 0.38210788], dtype=float32), 'class_ids': array([0], dtype=int64), 'classes': array([b'0'], dtype=object)}, {'logits': array([-1.1753151], dtype=float32), 'logistic': array([0.2358956], dtype=float32), 'probabilities': array([0.7641044 , 0.23589559], dtype=float32), 'class_ids': array([0], dtype=int64), 'classes': array([b'0'], dtype=object)}, {'logits': array([-1.0281999], dtype=float32), 'logistic': array([0.26343325], dtype=float32), 'probabilities': array([0.7365668 , 0.26343325], dtype=float32), 'class_ids': array([0], dtype=int64), 'classes': array([b'0'], dtype=object)}, {'logits': array([-0.85241413], dtype=float32), 'logistic': array([0.29892668], dtype=float32), 'probabilities': array([0.70107335, 0.29892668], dtype=float32), 'class_ids': array([0], dtype=int64), 'classes': array([b'0'], dtype=object)}, {'logits': array([-0.7500136], dtype=float32), 'logistic': array([0.32081833], dtype=float32), 'probabilities': array([0.67918164, 0.32081833], dtype=float32), 'class_ids': array([0], dtype=int64), 'classes': array([b'0'], dtype=object)}, {'logits': array([0.01852036], dtype=float32), 'logistic': array([0.50462997], dtype=float32), 'probabilities': array([0.49537006, 0.50462997], dtype=float32), 'class_ids': array([1], dtype=int64), 'classes': array([b'1'], dtype=object)}, {'logits': array([-1.4495634], dtype=float32), 'logistic': array([0.19006878], dtype=float32), 'probabilities': array([0.8099312 , 0.19006877], dtype=float32), 'class_ids': array([0], dtype=int64), 'classes': array([b'0'], dtype=object)}, {'logits': array([0.12989044], dtype=float32), 'logistic': array([0.532427], dtype=float32), 'probabilities': array([0.46757296, 0.532427  ], dtype=float32), 'class_ids': array([1], dtype=int64), 'classes': array([b'1'], dtype=object)}, {'logits': array([-1.4384686], dtype=float32), 'logistic': array([0.19178261], dtype=float32), 'probabilities': array([0.8082174 , 0.19178261], dtype=float32), 'class_ids': array([0], dtype=int64), 'classes': array([b'0'], dtype=object)}, {'logits': array([-1.0451529], dtype=float32), 'logistic': array([0.26015696], dtype=float32), 'probabilities': array([0.739843  , 0.26015696], dtype=float32), 'class_ids': array([0], dtype=int64), 'classes': array([b'0'], dtype=object)}, {'logits': array([-1.4377755], dtype=float32), 'logistic': array([0.19189008], dtype=float32), 'probabilities': array([0.80810994, 0.19189006], dtype=float32), 'class_ids': array([0], dtype=int64), 'classes': array([b'0'], dtype=object)}, {'logits': array([0.1610198], dtype=float32), 'logistic': array([0.5401682], dtype=float32), 'probabilities': array([0.4598318, 0.5401682], dtype=float32), 'class_ids': array([1], dtype=int64), 'classes': array([b'1'], dtype=object)}, {'logits': array([-1.4372587], dtype=float32), 'logistic': array([0.1919702], dtype=float32), 'probabilities': array([0.8080298 , 0.19197021], dtype=float32), 'class_ids': array([0], dtype=int64), 'classes': array([b'0'], dtype=object)}, {'logits': array([-1.3247476], dtype=float32), 'logistic': array([0.21002951], dtype=float32), 'probabilities': array([0.78997046, 0.2100295 ], dtype=float32), 'class_ids': array([0], dtype=int64), 'classes': array([b'0'], dtype=object)}, {'logits': array([-1.4382937], dtype=float32), 'logistic': array([0.19180973], dtype=float32), 'probabilities': array([0.8081903 , 0.19180971], dtype=float32), 'class_ids': array([0], dtype=int64), 'classes': array([b'0'], dtype=object)}, {'logits': array([-1.0581288], dtype=float32), 'logistic': array([0.25766718], dtype=float32), 'probabilities': array([0.7423328, 0.2576672], dtype=float32), 'class_ids': array([0], dtype=int64), 'classes': array([b'0'], dtype=object)}, {'logits': array([-0.58714604], dtype=float32), 'logistic': array([0.35728997], dtype=float32), 'probabilities': array([0.6427101 , 0.35728997], dtype=float32), 'class_ids': array([0], dtype=int64), 'classes': array([b'0'], dtype=object)}, {'logits': array([-0.6694757], dtype=float32), 'logistic': array([0.33861426], dtype=float32), 'probabilities': array([0.6613857 , 0.33861426], dtype=float32), 'class_ids': array([0], dtype=int64), 'classes': array([b'0'], dtype=object)}, {'logits': array([-1.0086095], dtype=float32), 'logistic': array([0.26725206], dtype=float32), 'probabilities': array([0.7327479 , 0.26725206], dtype=float32), 'class_ids': array([0], dtype=int64), 'classes': array([b'0'], dtype=object)}, {'logits': array([-1.2250857], dtype=float32), 'logistic': array([0.22704269], dtype=float32), 'probabilities': array([0.7729573, 0.2270427], dtype=float32), 'class_ids': array([0], dtype=int64), 'classes': array([b'0'], dtype=object)}, {'logits': array([-1.3877041], dtype=float32), 'logistic': array([0.19977453], dtype=float32), 'probabilities': array([0.80022544, 0.19977453], dtype=float32), 'class_ids': array([0], dtype=int64), 'classes': array([b'0'], dtype=object)}, {'logits': array([-1.0698581], dtype=float32), 'logistic': array([0.25543007], dtype=float32), 'probabilities': array([0.74456996, 0.2554301 ], dtype=float32), 'class_ids': array([0], dtype=int64), 'classes': array([b'0'], dtype=object)}, {'logits': array([-0.9459873], dtype=float32), 'logistic': array([0.27969253], dtype=float32), 'probabilities': array([0.72030747, 0.2796925 ], dtype=float32), 'class_ids': array([0], dtype=int64), 'classes': array([b'0'], dtype=object)}, {'logits': array([-0.15058982], dtype=float32), 'logistic': array([0.46242353], dtype=float32), 'probabilities': array([0.5375765 , 0.46242356], dtype=float32), 'class_ids': array([0], dtype=int64), 'classes': array([b'0'], dtype=object)}, {'logits': array([-1.1296871], dtype=float32), 'logistic': array([0.24421886], dtype=float32), 'probabilities': array([0.7557811 , 0.24421884], dtype=float32), 'class_ids': array([0], dtype=int64), 'classes': array([b'0'], dtype=object)}, {'logits': array([0.4130969], dtype=float32), 'logistic': array([0.6018302], dtype=float32), 'probabilities': array([0.39816973, 0.6018302 ], dtype=float32), 'class_ids': array([1], dtype=int64), 'classes': array([b'1'], dtype=object)}, {'logits': array([-0.00238609], dtype=float32), 'logistic': array([0.49940348], dtype=float32), 'probabilities': array([0.5005965 , 0.49940348], dtype=float32), 'class_ids': array([0], dtype=int64), 'classes': array([b'0'], dtype=object)}, {'logits': array([-0.8648566], dtype=float32), 'logistic': array([0.29632565], dtype=float32), 'probabilities': array([0.7036743 , 0.29632565], dtype=float32), 'class_ids': array([0], dtype=int64), 'classes': array([b'0'], dtype=object)}, {'logits': array([-1.2621298], dtype=float32), 'logistic': array([0.22060747], dtype=float32), 'probabilities': array([0.77939254, 0.22060747], dtype=float32), 'class_ids': array([0], dtype=int64), 'classes': array([b'0'], dtype=object)}, {'logits': array([-0.4638064], dtype=float32), 'logistic': array([0.38608325], dtype=float32), 'probabilities': array([0.61391675, 0.38608322], dtype=float32), 'class_ids': array([0], dtype=int64), 'classes': array([b'0'], dtype=object)}, {'logits': array([-1.3272555], dtype=float32), 'logistic': array([0.20961371], dtype=float32), 'probabilities': array([0.79038626, 0.2096137 ], dtype=float32), 'class_ids': array([0], dtype=int64), 'classes': array([b'0'], dtype=object)}, {'logits': array([-1.0434868], dtype=float32), 'logistic': array([0.26047778], dtype=float32), 'probabilities': array([0.7395223, 0.2604778], dtype=float32), 'class_ids': array([0], dtype=int64), 'classes': array([b'0'], dtype=object)}, {'logits': array([-0.5865251], dtype=float32), 'logistic': array([0.35743257], dtype=float32), 'probabilities': array([0.64256746, 0.35743257], dtype=float32), 'class_ids': array([0], dtype=int64), 'classes': array([b'0'], dtype=object)}, {'logits': array([-1.4527024], dtype=float32), 'logistic': array([0.18958601], dtype=float32), 'probabilities': array([0.81041396, 0.189586  ], dtype=float32), 'class_ids': array([0], dtype=int64), 'classes': array([b'0'], dtype=object)}, {'logits': array([-0.79280806], dtype=float32), 'logistic': array([0.31156605], dtype=float32), 'probabilities': array([0.688434  , 0.31156605], dtype=float32), 'class_ids': array([0], dtype=int64), 'classes': array([b'0'], dtype=object)}, {'logits': array([0.17489266], dtype=float32), 'logistic': array([0.54361206], dtype=float32), 'probabilities': array([0.45638797, 0.54361206], dtype=float32), 'class_ids': array([1], dtype=int64), 'classes': array([b'1'], dtype=object)}, {'logits': array([-1.3473997], dtype=float32), 'logistic': array([0.2062958], dtype=float32), 'probabilities': array([0.7937042 , 0.20629582], dtype=float32), 'class_ids': array([0], dtype=int64), 'classes': array([b'0'], dtype=object)}, {'logits': array([-0.51579916], dtype=float32), 'logistic': array([0.37383506], dtype=float32), 'probabilities': array([0.626165 , 0.3738351], dtype=float32), 'class_ids': array([0], dtype=int64), 'classes': array([b'0'], dtype=object)}, {'logits': array([-0.8457391], dtype=float32), 'logistic': array([0.30032745], dtype=float32), 'probabilities': array([0.6996726 , 0.30032745], dtype=float32), 'class_ids': array([0], dtype=int64), 'classes': array([b'0'], dtype=object)}, {'logits': array([-0.6863389], dtype=float32), 'logistic': array([0.334848], dtype=float32), 'probabilities': array([0.66515195, 0.334848  ], dtype=float32), 'class_ids': array([0], dtype=int64), 'classes': array([b'0'], dtype=object)}, {'logits': array([-1.4637772], dtype=float32), 'logistic': array([0.18789029], dtype=float32), 'probabilities': array([0.81210977, 0.1878903 ], dtype=float32), 'class_ids': array([0], dtype=int64), 'classes': array([b'0'], dtype=object)}, {'logits': array([-0.23600018], dtype=float32), 'logistic': array([0.4412723], dtype=float32), 'probabilities': array([0.55872774, 0.44127226], dtype=float32), 'class_ids': array([0], dtype=int64), 'classes': array([b'0'], dtype=object)}, {'logits': array([0.14048934], dtype=float32), 'logistic': array([0.5350647], dtype=float32), 'probabilities': array([0.46493536, 0.5350647 ], dtype=float32), 'class_ids': array([1], dtype=int64), 'classes': array([b'1'], dtype=object)}, {'logits': array([-1.3288493], dtype=float32), 'logistic': array([0.20934977], dtype=float32), 'probabilities': array([0.79065025, 0.20934978], dtype=float32), 'class_ids': array([0], dtype=int64), 'classes': array([b'0'], dtype=object)}, {'logits': array([-0.95645636], dtype=float32), 'logistic': array([0.27758825], dtype=float32), 'probabilities': array([0.72241175, 0.27758825], dtype=float32), 'class_ids': array([0], dtype=int64), 'classes': array([b'0'], dtype=object)}, {'logits': array([-1.419845], dtype=float32), 'logistic': array([0.19468588], dtype=float32), 'probabilities': array([0.8053141 , 0.19468589], dtype=float32), 'class_ids': array([0], dtype=int64), 'classes': array([b'0'], dtype=object)}, {'logits': array([-1.3210927], dtype=float32), 'logistic': array([0.21063654], dtype=float32), 'probabilities': array([0.78936344, 0.21063656], dtype=float32), 'class_ids': array([0], dtype=int64), 'classes': array([b'0'], dtype=object)}, {'logits': array([-0.5823722], dtype=float32), 'logistic': array([0.35838693], dtype=float32), 'probabilities': array([0.64161307, 0.35838693], dtype=float32), 'class_ids': array([0], dtype=int64), 'classes': array([b'0'], dtype=object)}, {'logits': array([-0.22608376], dtype=float32), 'logistic': array([0.44371858], dtype=float32), 'probabilities': array([0.5562814 , 0.44371855], dtype=float32), 'class_ids': array([0], dtype=int64), 'classes': array([b'0'], dtype=object)}, {'logits': array([-0.8450178], dtype=float32), 'logistic': array([0.30047905], dtype=float32), 'probabilities': array([0.699521  , 0.30047905], dtype=float32), 'class_ids': array([0], dtype=int64), 'classes': array([b'0'], dtype=object)}, {'logits': array([-0.47198796], dtype=float32), 'logistic': array([0.38414583], dtype=float32), 'probabilities': array([0.6158542 , 0.38414583], dtype=float32), 'class_ids': array([0], dtype=int64), 'classes': array([b'0'], dtype=object)}, {'logits': array([-0.3935157], dtype=float32), 'logistic': array([0.40287125], dtype=float32), 'probabilities': array([0.59712875, 0.40287125], dtype=float32), 'class_ids': array([0], dtype=int64), 'classes': array([b'0'], dtype=object)}, {'logits': array([-0.3659854], dtype=float32), 'logistic': array([0.40951145], dtype=float32), 'probabilities': array([0.59048855, 0.40951145], dtype=float32), 'class_ids': array([0], dtype=int64), 'classes': array([b'0'], dtype=object)}, {'logits': array([-0.8976686], dtype=float32), 'logistic': array([0.28952983], dtype=float32), 'probabilities': array([0.7104702 , 0.28952983], dtype=float32), 'class_ids': array([0], dtype=int64), 'classes': array([b'0'], dtype=object)}, {'logits': array([-1.3050106], dtype=float32), 'logistic': array([0.21332297], dtype=float32), 'probabilities': array([0.78667706, 0.21332295], dtype=float32), 'class_ids': array([0], dtype=int64), 'classes': array([b'0'], dtype=object)}, {'logits': array([-0.80331135], dtype=float32), 'logistic': array([0.30931765], dtype=float32), 'probabilities': array([0.69068235, 0.30931765], dtype=float32), 'class_ids': array([0], dtype=int64), 'classes': array([b'0'], dtype=object)}, {'logits': array([-1.4492018], dtype=float32), 'logistic': array([0.19012444], dtype=float32), 'probabilities': array([0.8098756 , 0.19012444], dtype=float32), 'class_ids': array([0], dtype=int64), 'classes': array([b'0'], dtype=object)}, {'logits': array([-0.5704038], dtype=float32), 'logistic': array([0.36114365], dtype=float32), 'probabilities': array([0.63885635, 0.36114365], dtype=float32), 'class_ids': array([0], dtype=int64), 'classes': array([b'0'], dtype=object)}, {'logits': array([-0.37823248], dtype=float32), 'logistic': array([0.40655327], dtype=float32), 'probabilities': array([0.59344673, 0.40655327], dtype=float32), 'class_ids': array([0], dtype=int64), 'classes': array([b'0'], dtype=object)}, {'logits': array([-0.10710645], dtype=float32), 'logistic': array([0.47324893], dtype=float32), 'probabilities': array([0.52675104, 0.47324896], dtype=float32), 'class_ids': array([0], dtype=int64), 'classes': array([b'0'], dtype=object)}, {'logits': array([-0.62748647], dtype=float32), 'logistic': array([0.3480807], dtype=float32), 'probabilities': array([0.6519193 , 0.34808066], dtype=float32), 'class_ids': array([0], dtype=int64), 'classes': array([b'0'], dtype=object)}, {'logits': array([-1.1562468], dtype=float32), 'logistic': array([0.23934993], dtype=float32), 'probabilities': array([0.7606501 , 0.23934993], dtype=float32), 'class_ids': array([0], dtype=int64), 'classes': array([b'0'], dtype=object)}, {'logits': array([-1.1153808], dtype=float32), 'logistic': array([0.2468691], dtype=float32), 'probabilities': array([0.75313085, 0.24686909], dtype=float32), 'class_ids': array([0], dtype=int64), 'classes': array([b'0'], dtype=object)}, {'logits': array([-1.2038648], dtype=float32), 'logistic': array([0.2307884], dtype=float32), 'probabilities': array([0.7692116 , 0.23078841], dtype=float32), 'class_ids': array([0], dtype=int64), 'classes': array([b'0'], dtype=object)}, {'logits': array([-1.0755517], dtype=float32), 'logistic': array([0.25434873], dtype=float32), 'probabilities': array([0.74565125, 0.25434873], dtype=float32), 'class_ids': array([0], dtype=int64), 'classes': array([b'0'], dtype=object)}, {'logits': array([-0.9328667], dtype=float32), 'logistic': array([0.28234348], dtype=float32), 'probabilities': array([0.7176565 , 0.28234348], dtype=float32), 'class_ids': array([0], dtype=int64), 'classes': array([b'0'], dtype=object)}, {'logits': array([-0.52431285], dtype=float32), 'logistic': array([0.3718443], dtype=float32), 'probabilities': array([0.6281557, 0.3718443], dtype=float32), 'class_ids': array([0], dtype=int64), 'classes': array([b'0'], dtype=object)}, {'logits': array([-0.26223195], dtype=float32), 'logistic': array([0.4348151], dtype=float32), 'probabilities': array([0.56518483, 0.4348151 ], dtype=float32), 'class_ids': array([0], dtype=int64), 'classes': array([b'0'], dtype=object)}, {'logits': array([-1.3539569], dtype=float32), 'logistic': array([0.20522422], dtype=float32), 'probabilities': array([0.7947758 , 0.20522422], dtype=float32), 'class_ids': array([0], dtype=int64), 'classes': array([b'0'], dtype=object)}, {'logits': array([-0.0366776], dtype=float32), 'logistic': array([0.4908316], dtype=float32), 'probabilities': array([0.5091684 , 0.49083164], dtype=float32), 'class_ids': array([0], dtype=int64), 'classes': array([b'0'], dtype=object)}, {'logits': array([-1.3033988], dtype=float32), 'logistic': array([0.21359354], dtype=float32), 'probabilities': array([0.78640646, 0.21359356], dtype=float32), 'class_ids': array([0], dtype=int64), 'classes': array([b'0'], dtype=object)}, {'logits': array([-0.8599025], dtype=float32), 'logistic': array([0.2973597], dtype=float32), 'probabilities': array([0.7026403 , 0.29735973], dtype=float32), 'class_ids': array([0], dtype=int64), 'classes': array([b'0'], dtype=object)}, {'logits': array([-1.3015594], dtype=float32), 'logistic': array([0.21390268], dtype=float32), 'probabilities': array([0.78609735, 0.21390268], dtype=float32), 'class_ids': array([0], dtype=int64), 'classes': array([b'0'], dtype=object)}, {'logits': array([-0.5879353], dtype=float32), 'logistic': array([0.3571087], dtype=float32), 'probabilities': array([0.6428913 , 0.35710874], dtype=float32), 'class_ids': array([0], dtype=int64), 'classes': array([b'0'], dtype=object)}, {'logits': array([-0.15852022], dtype=float32), 'logistic': array([0.46045274], dtype=float32), 'probabilities': array([0.53954726, 0.4604527 ], dtype=float32), 'class_ids': array([0], dtype=int64), 'classes': array([b'0'], dtype=object)}, {'logits': array([-1.1042376], dtype=float32), 'logistic': array([0.24894674], dtype=float32), 'probabilities': array([0.7510532 , 0.24894674], dtype=float32), 'class_ids': array([0], dtype=int64), 'classes': array([b'0'], dtype=object)}, {'logits': array([-1.263342], dtype=float32), 'logistic': array([0.22039911], dtype=float32), 'probabilities': array([0.77960086, 0.22039911], dtype=float32), 'class_ids': array([0], dtype=int64), 'classes': array([b'0'], dtype=object)}, {'logits': array([-0.7304126], dtype=float32), 'logistic': array([0.32510418], dtype=float32), 'probabilities': array([0.6748958, 0.3251042], dtype=float32), 'class_ids': array([0], dtype=int64), 'classes': array([b'0'], dtype=object)}, {'logits': array([-0.26331758], dtype=float32), 'logistic': array([0.43454835], dtype=float32), 'probabilities': array([0.5654516 , 0.43454835], dtype=float32), 'class_ids': array([0], dtype=int64), 'classes': array([b'0'], dtype=object)}, {'logits': array([-1.0989947], dtype=float32), 'logistic': array([0.24992831], dtype=float32), 'probabilities': array([0.75007164, 0.24992828], dtype=float32), 'class_ids': array([0], dtype=int64), 'classes': array([b'0'], dtype=object)}, {'logits': array([-0.88329804], dtype=float32), 'logistic': array([0.2924948], dtype=float32), 'probabilities': array([0.70750517, 0.2924948 ], dtype=float32), 'class_ids': array([0], dtype=int64), 'classes': array([b'0'], dtype=object)}, {'logits': array([0.13933706], dtype=float32), 'logistic': array([0.534778], dtype=float32), 'probabilities': array([0.46522197, 0.534778  ], dtype=float32), 'class_ids': array([1], dtype=int64), 'classes': array([b'1'], dtype=object)}, {'logits': array([-0.3559972], dtype=float32), 'logistic': array([0.4119289], dtype=float32), 'probabilities': array([0.58807117, 0.4119289 ], dtype=float32), 'class_ids': array([0], dtype=int64), 'classes': array([b'0'], dtype=object)}, {'logits': array([-1.4306253], dtype=float32), 'logistic': array([0.19300127], dtype=float32), 'probabilities': array([0.8069987 , 0.19300127], dtype=float32), 'class_ids': array([0], dtype=int64), 'classes': array([b'0'], dtype=object)}, {'logits': array([-1.0674795], dtype=float32), 'logistic': array([0.2558827], dtype=float32), 'probabilities': array([0.74411726, 0.25588268], dtype=float32), 'class_ids': array([0], dtype=int64), 'classes': array([b'0'], dtype=object)}, {'logits': array([-0.89624727], dtype=float32), 'logistic': array([0.2898223], dtype=float32), 'probabilities': array([0.7101777, 0.2898223], dtype=float32), 'class_ids': array([0], dtype=int64), 'classes': array([b'0'], dtype=object)}, {'logits': array([-0.64334893], dtype=float32), 'logistic': array([0.3444899], dtype=float32), 'probabilities': array([0.6555101, 0.3444899], dtype=float32), 'class_ids': array([0], dtype=int64), 'classes': array([b'0'], dtype=object)}, {'logits': array([-0.28301466], dtype=float32), 'logistic': array([0.42971486], dtype=float32), 'probabilities': array([0.57028514, 0.42971483], dtype=float32), 'class_ids': array([0], dtype=int64), 'classes': array([b'0'], dtype=object)}, {'logits': array([-1.5257233], dtype=float32), 'logistic': array([0.17862026], dtype=float32), 'probabilities': array([0.8213797 , 0.17862028], dtype=float32), 'class_ids': array([0], dtype=int64), 'classes': array([b'0'], dtype=object)}, {'logits': array([-1.0491683], dtype=float32), 'logistic': array([0.25938484], dtype=float32), 'probabilities': array([0.7406152 , 0.25938484], dtype=float32), 'class_ids': array([0], dtype=int64), 'classes': array([b'0'], dtype=object)}, {'logits': array([-1.1809767], dtype=float32), 'logistic': array([0.23487662], dtype=float32), 'probabilities': array([0.7651234 , 0.23487665], dtype=float32), 'class_ids': array([0], dtype=int64), 'classes': array([b'0'], dtype=object)}, {'logits': array([-1.5951763], dtype=float32), 'logistic': array([0.16865687], dtype=float32), 'probabilities': array([0.8313431 , 0.16865687], dtype=float32), 'class_ids': array([0], dtype=int64), 'classes': array([b'0'], dtype=object)}, {'logits': array([-1.0912257], dtype=float32), 'logistic': array([0.25138754], dtype=float32), 'probabilities': array([0.7486124, 0.2513875], dtype=float32), 'class_ids': array([0], dtype=int64), 'classes': array([b'0'], dtype=object)}, {'logits': array([-0.517231], dtype=float32), 'logistic': array([0.37349996], dtype=float32), 'probabilities': array([0.62650007, 0.37349996], dtype=float32), 'class_ids': array([0], dtype=int64), 'classes': array([b'0'], dtype=object)}, {'logits': array([-1.2199607], dtype=float32), 'logistic': array([0.22794338], dtype=float32), 'probabilities': array([0.7720566 , 0.22794336], dtype=float32), 'class_ids': array([0], dtype=int64), 'classes': array([b'0'], dtype=object)}, {'logits': array([-0.2405088], dtype=float32), 'logistic': array([0.44016096], dtype=float32), 'probabilities': array([0.559839  , 0.44016093], dtype=float32), 'class_ids': array([0], dtype=int64), 'classes': array([b'0'], dtype=object)}, {'logits': array([-1.3979832], dtype=float32), 'logistic': array([0.19813634], dtype=float32), 'probabilities': array([0.8018636 , 0.19813633], dtype=float32), 'class_ids': array([0], dtype=int64), 'classes': array([b'0'], dtype=object)}, {'logits': array([-0.37239146], dtype=float32), 'logistic': array([0.40796328], dtype=float32), 'probabilities': array([0.5920367 , 0.40796328], dtype=float32), 'class_ids': array([0], dtype=int64), 'classes': array([b'0'], dtype=object)}, {'logits': array([-0.5524744], dtype=float32), 'logistic': array([0.36529055], dtype=float32), 'probabilities': array([0.6347095 , 0.36529052], dtype=float32), 'class_ids': array([0], dtype=int64), 'classes': array([b'0'], dtype=object)}, {'logits': array([-1.1093569], dtype=float32), 'logistic': array([0.24799079], dtype=float32), 'probabilities': array([0.75200915, 0.2479908 ], dtype=float32), 'class_ids': array([0], dtype=int64), 'classes': array([b'0'], dtype=object)}, {'logits': array([-0.27066636], dtype=float32), 'logistic': array([0.4327435], dtype=float32), 'probabilities': array([0.56725645, 0.4327435 ], dtype=float32), 'class_ids': array([0], dtype=int64), 'classes': array([b'0'], dtype=object)}, {'logits': array([-0.8935188], dtype=float32), 'logistic': array([0.2903842], dtype=float32), 'probabilities': array([0.70961577, 0.2903842 ], dtype=float32), 'class_ids': array([0], dtype=int64), 'classes': array([b'0'], dtype=object)}, {'logits': array([-0.6177199], dtype=float32), 'logistic': array([0.3503002], dtype=float32), 'probabilities': array([0.6496998 , 0.35030022], dtype=float32), 'class_ids': array([0], dtype=int64), 'classes': array([b'0'], dtype=object)}, {'logits': array([-0.06063533], dtype=float32), 'logistic': array([0.4848458], dtype=float32), 'probabilities': array([0.5151542 , 0.48484582], dtype=float32), 'class_ids': array([0], dtype=int64), 'classes': array([b'0'], dtype=object)}, {'logits': array([-0.7680397], dtype=float32), 'logistic': array([0.3169033], dtype=float32), 'probabilities': array([0.6830967 , 0.31690332], dtype=float32), 'class_ids': array([0], dtype=int64), 'classes': array([b'0'], dtype=object)}, {'logits': array([0.43565416], dtype=float32), 'logistic': array([0.60722303], dtype=float32), 'probabilities': array([0.392777  , 0.60722303], dtype=float32), 'class_ids': array([1], dtype=int64), 'classes': array([b'1'], dtype=object)}, {'logits': array([-0.32756674], dtype=float32), 'logistic': array([0.4188328], dtype=float32), 'probabilities': array([0.5811672 , 0.41883278], dtype=float32), 'class_ids': array([0], dtype=int64), 'classes': array([b'0'], dtype=object)}, {'logits': array([-0.59955907], dtype=float32), 'logistic': array([0.3544446], dtype=float32), 'probabilities': array([0.64555544, 0.3544446 ], dtype=float32), 'class_ids': array([0], dtype=int64), 'classes': array([b'0'], dtype=object)}, {'logits': array([-1.2000284], dtype=float32), 'logistic': array([0.23147015], dtype=float32), 'probabilities': array([0.7685299 , 0.23147018], dtype=float32), 'class_ids': array([0], dtype=int64), 'classes': array([b'0'], dtype=object)}, {'logits': array([-1.015466], dtype=float32), 'logistic': array([0.26591152], dtype=float32), 'probabilities': array([0.7340885, 0.2659115], dtype=float32), 'class_ids': array([0], dtype=int64), 'classes': array([b'0'], dtype=object)}, {'logits': array([-0.8880497], dtype=float32), 'logistic': array([0.29151246], dtype=float32), 'probabilities': array([0.7084876 , 0.29151246], dtype=float32), 'class_ids': array([0], dtype=int64), 'classes': array([b'0'], dtype=object)}, {'logits': array([-1.2405628], dtype=float32), 'logistic': array([0.22433805], dtype=float32), 'probabilities': array([0.77566195, 0.22433804], dtype=float32), 'class_ids': array([0], dtype=int64), 'classes': array([b'0'], dtype=object)}, {'logits': array([-0.5313902], dtype=float32), 'logistic': array([0.3701927], dtype=float32), 'probabilities': array([0.6298073, 0.3701927], dtype=float32), 'class_ids': array([0], dtype=int64), 'classes': array([b'0'], dtype=object)}, {'logits': array([-0.9051541], dtype=float32), 'logistic': array([0.28799248], dtype=float32), 'probabilities': array([0.7120075 , 0.28799248], dtype=float32), 'class_ids': array([0], dtype=int64), 'classes': array([b'0'], dtype=object)}, {'logits': array([-0.8147905], dtype=float32), 'logistic': array([0.3068706], dtype=float32), 'probabilities': array([0.69312936, 0.30687058], dtype=float32), 'class_ids': array([0], dtype=int64), 'classes': array([b'0'], dtype=object)}, {'logits': array([-0.70079195], dtype=float32), 'logistic': array([0.33163667], dtype=float32), 'probabilities': array([0.66836333, 0.33163667], dtype=float32), 'class_ids': array([0], dtype=int64), 'classes': array([b'0'], dtype=object)}, {'logits': array([-0.99378425], dtype=float32), 'logistic': array([0.27016526], dtype=float32), 'probabilities': array([0.72983474, 0.27016526], dtype=float32), 'class_ids': array([0], dtype=int64), 'classes': array([b'0'], dtype=object)}, {'logits': array([-0.65519786], dtype=float32), 'logistic': array([0.34181917], dtype=float32), 'probabilities': array([0.65818083, 0.3418192 ], dtype=float32), 'class_ids': array([0], dtype=int64), 'classes': array([b'0'], dtype=object)}, {'logits': array([-0.81782365], dtype=float32), 'logistic': array([0.30622584], dtype=float32), 'probabilities': array([0.69377416, 0.30622584], dtype=float32), 'class_ids': array([0], dtype=int64), 'classes': array([b'0'], dtype=object)}, {'logits': array([-1.7283843], dtype=float32), 'logistic': array([0.15079437], dtype=float32), 'probabilities': array([0.8492057 , 0.15079437], dtype=float32), 'class_ids': array([0], dtype=int64), 'classes': array([b'0'], dtype=object)}, {'logits': array([-1.1522076], dtype=float32), 'logistic': array([0.2400861], dtype=float32), 'probabilities': array([0.7599139, 0.2400861], dtype=float32), 'class_ids': array([0], dtype=int64), 'classes': array([b'0'], dtype=object)}, {'logits': array([-0.377609], dtype=float32), 'logistic': array([0.4067037], dtype=float32), 'probabilities': array([0.5932963, 0.4067037], dtype=float32), 'class_ids': array([0], dtype=int64), 'classes': array([b'0'], dtype=object)}, {'logits': array([-0.31803823], dtype=float32), 'logistic': array([0.42115393], dtype=float32), 'probabilities': array([0.5788461, 0.4211539], dtype=float32), 'class_ids': array([0], dtype=int64), 'classes': array([b'0'], dtype=object)}, {'logits': array([-1.1279224], dtype=float32), 'logistic': array([0.24454473], dtype=float32), 'probabilities': array([0.7554553 , 0.24454471], dtype=float32), 'class_ids': array([0], dtype=int64), 'classes': array([b'0'], dtype=object)}, {'logits': array([-0.9799842], dtype=float32), 'logistic': array([0.27289492], dtype=float32), 'probabilities': array([0.727105 , 0.2728949], dtype=float32), 'class_ids': array([0], dtype=int64), 'classes': array([b'0'], dtype=object)}, {'logits': array([-0.8094938], dtype=float32), 'logistic': array([0.3079984], dtype=float32), 'probabilities': array([0.6920016 , 0.30799836], dtype=float32), 'class_ids': array([0], dtype=int64), 'classes': array([b'0'], dtype=object)}, {'logits': array([-0.3115635], dtype=float32), 'logistic': array([0.42273313], dtype=float32), 'probabilities': array([0.5772669, 0.4227332], dtype=float32), 'class_ids': array([0], dtype=int64), 'classes': array([b'0'], dtype=object)}, {'logits': array([-0.62742555], dtype=float32), 'logistic': array([0.34809452], dtype=float32), 'probabilities': array([0.65190554, 0.34809455], dtype=float32), 'class_ids': array([0], dtype=int64), 'classes': array([b'0'], dtype=object)}, {'logits': array([-0.47343087], dtype=float32), 'logistic': array([0.3838045], dtype=float32), 'probabilities': array([0.6161955 , 0.38380453], dtype=float32), 'class_ids': array([0], dtype=int64), 'classes': array([b'0'], dtype=object)}, {'logits': array([-0.47907615], dtype=float32), 'logistic': array([0.3824703], dtype=float32), 'probabilities': array([0.6175297, 0.3824703], dtype=float32), 'class_ids': array([0], dtype=int64), 'classes': array([b'0'], dtype=object)}, {'logits': array([-0.74145114], dtype=float32), 'logistic': array([0.3226869], dtype=float32), 'probabilities': array([0.6773131, 0.3226869], dtype=float32), 'class_ids': array([0], dtype=int64), 'classes': array([b'0'], dtype=object)}, {'logits': array([-1.4999853], dtype=float32), 'logistic': array([0.18242772], dtype=float32), 'probabilities': array([0.8175723, 0.1824277], dtype=float32), 'class_ids': array([0], dtype=int64), 'classes': array([b'0'], dtype=object)}, {'logits': array([-0.04812241], dtype=float32), 'logistic': array([0.4879717], dtype=float32), 'probabilities': array([0.5120283 , 0.48797172], dtype=float32), 'class_ids': array([0], dtype=int64), 'classes': array([b'0'], dtype=object)}, {'logits': array([-1.1289155], dtype=float32), 'logistic': array([0.24436128], dtype=float32), 'probabilities': array([0.75563866, 0.24436127], dtype=float32), 'class_ids': array([0], dtype=int64), 'classes': array([b'0'], dtype=object)}, {'logits': array([-0.57675624], dtype=float32), 'logistic': array([0.3596793], dtype=float32), 'probabilities': array([0.64032066, 0.3596793 ], dtype=float32), 'class_ids': array([0], dtype=int64), 'classes': array([b'0'], dtype=object)}, {'logits': array([-0.98900723], dtype=float32), 'logistic': array([0.2711082], dtype=float32), 'probabilities': array([0.7288918, 0.2711082], dtype=float32), 'class_ids': array([0], dtype=int64), 'classes': array([b'0'], dtype=object)}, {'logits': array([-0.33460116], dtype=float32), 'logistic': array([0.4171215], dtype=float32), 'probabilities': array([0.58287853, 0.41712153], dtype=float32), 'class_ids': array([0], dtype=int64), 'classes': array([b'0'], dtype=object)}, {'logits': array([-1.5070627], dtype=float32), 'logistic': array([0.1813745], dtype=float32), 'probabilities': array([0.8186255 , 0.18137452], dtype=float32), 'class_ids': array([0], dtype=int64), 'classes': array([b'0'], dtype=object)}, {'logits': array([-0.73616624], dtype=float32), 'logistic': array([0.32384303], dtype=float32), 'probabilities': array([0.67615694, 0.32384303], dtype=float32), 'class_ids': array([0], dtype=int64), 'classes': array([b'0'], dtype=object)}, {'logits': array([-1.2963978], dtype=float32), 'logistic': array([0.21477188], dtype=float32), 'probabilities': array([0.78522813, 0.2147719 ], dtype=float32), 'class_ids': array([0], dtype=int64), 'classes': array([b'0'], dtype=object)}, {'logits': array([-1.2925005], dtype=float32), 'logistic': array([0.21542987], dtype=float32), 'probabilities': array([0.7845701 , 0.21542987], dtype=float32), 'class_ids': array([0], dtype=int64), 'classes': array([b'0'], dtype=object)}, {'logits': array([-0.21082938], dtype=float32), 'logistic': array([0.44748703], dtype=float32), 'probabilities': array([0.552513  , 0.44748706], dtype=float32), 'class_ids': array([0], dtype=int64), 'classes': array([b'0'], dtype=object)}, {'logits': array([-1.4881353], dtype=float32), 'logistic': array([0.18420176], dtype=float32), 'probabilities': array([0.8157983 , 0.18420178], dtype=float32), 'class_ids': array([0], dtype=int64), 'classes': array([b'0'], dtype=object)}, {'logits': array([-0.3947054], dtype=float32), 'logistic': array([0.40258506], dtype=float32), 'probabilities': array([0.5974149, 0.4025851], dtype=float32), 'class_ids': array([0], dtype=int64), 'classes': array([b'0'], dtype=object)}, {'logits': array([-1.3067147], dtype=float32), 'logistic': array([0.21303713], dtype=float32), 'probabilities': array([0.78696287, 0.21303712], dtype=float32), 'class_ids': array([0], dtype=int64), 'classes': array([b'0'], dtype=object)}, {'logits': array([-0.5083829], dtype=float32), 'logistic': array([0.37557268], dtype=float32), 'probabilities': array([0.6244273 , 0.37557268], dtype=float32), 'class_ids': array([0], dtype=int64), 'classes': array([b'0'], dtype=object)}, {'logits': array([-1.278507], dtype=float32), 'logistic': array([0.21780446], dtype=float32), 'probabilities': array([0.7821955 , 0.21780448], dtype=float32), 'class_ids': array([0], dtype=int64), 'classes': array([b'0'], dtype=object)}, {'logits': array([-0.98890924], dtype=float32), 'logistic': array([0.27112758], dtype=float32), 'probabilities': array([0.7288724 , 0.27112758], dtype=float32), 'class_ids': array([0], dtype=int64), 'classes': array([b'0'], dtype=object)}, {'logits': array([-0.6526525], dtype=float32), 'logistic': array([0.34239206], dtype=float32), 'probabilities': array([0.6576079 , 0.34239206], dtype=float32), 'class_ids': array([0], dtype=int64), 'classes': array([b'0'], dtype=object)}, {'logits': array([-0.73106647], dtype=float32), 'logistic': array([0.32496074], dtype=float32), 'probabilities': array([0.67503923, 0.32496074], dtype=float32), 'class_ids': array([0], dtype=int64), 'classes': array([b'0'], dtype=object)}, {'logits': array([-0.52442944], dtype=float32), 'logistic': array([0.37181708], dtype=float32), 'probabilities': array([0.62818295, 0.37181705], dtype=float32), 'class_ids': array([0], dtype=int64), 'classes': array([b'0'], dtype=object)}, {'logits': array([-1.1275942], dtype=float32), 'logistic': array([0.24460536], dtype=float32), 'probabilities': array([0.7553947 , 0.24460538], dtype=float32), 'class_ids': array([0], dtype=int64), 'classes': array([b'0'], dtype=object)}, {'logits': array([-1.9655071], dtype=float32), 'logistic': array([0.12287227], dtype=float32), 'probabilities': array([0.8771277 , 0.12287228], dtype=float32), 'class_ids': array([0], dtype=int64), 'classes': array([b'0'], dtype=object)}, {'logits': array([-0.35059607], dtype=float32), 'logistic': array([0.41323787], dtype=float32), 'probabilities': array([0.58676213, 0.41323787], dtype=float32), 'class_ids': array([0], dtype=int64), 'classes': array([b'0'], dtype=object)}, {'logits': array([-0.54631984], dtype=float32), 'logistic': array([0.36671865], dtype=float32), 'probabilities': array([0.63328135, 0.36671868], dtype=float32), 'class_ids': array([0], dtype=int64), 'classes': array([b'0'], dtype=object)}, {'logits': array([-0.92626303], dtype=float32), 'logistic': array([0.28368348], dtype=float32), 'probabilities': array([0.7163165 , 0.28368348], dtype=float32), 'class_ids': array([0], dtype=int64), 'classes': array([b'0'], dtype=object)}, {'logits': array([-1.2472112], dtype=float32), 'logistic': array([0.22318326], dtype=float32), 'probabilities': array([0.7768168 , 0.22318327], dtype=float32), 'class_ids': array([0], dtype=int64), 'classes': array([b'0'], dtype=object)}, {'logits': array([-0.9943208], dtype=float32), 'logistic': array([0.27005947], dtype=float32), 'probabilities': array([0.72994053, 0.2700595 ], dtype=float32), 'class_ids': array([0], dtype=int64), 'classes': array([b'0'], dtype=object)}, {'logits': array([-1.2743173], dtype=float32), 'logistic': array([0.21851912], dtype=float32), 'probabilities': array([0.7814809, 0.2185191], dtype=float32), 'class_ids': array([0], dtype=int64), 'classes': array([b'0'], dtype=object)}, {'logits': array([-0.8368417], dtype=float32), 'logistic': array([0.30220038], dtype=float32), 'probabilities': array([0.6977996 , 0.30220038], dtype=float32), 'class_ids': array([0], dtype=int64), 'classes': array([b'0'], dtype=object)}, {'logits': array([-0.9223667], dtype=float32), 'logistic': array([0.28447592], dtype=float32), 'probabilities': array([0.7155241, 0.2844759], dtype=float32), 'class_ids': array([0], dtype=int64), 'classes': array([b'0'], dtype=object)}, {'logits': array([-0.9612603], dtype=float32), 'logistic': array([0.27662593], dtype=float32), 'probabilities': array([0.72337407, 0.27662593], dtype=float32), 'class_ids': array([0], dtype=int64), 'classes': array([b'0'], dtype=object)}, {'logits': array([-0.50456476], dtype=float32), 'logistic': array([0.37646854], dtype=float32), 'probabilities': array([0.62353146, 0.3764685 ], dtype=float32), 'class_ids': array([0], dtype=int64), 'classes': array([b'0'], dtype=object)}, {'logits': array([-1.2802657], dtype=float32), 'logistic': array([0.21750501], dtype=float32), 'probabilities': array([0.782495, 0.217505], dtype=float32), 'class_ids': array([0], dtype=int64), 'classes': array([b'0'], dtype=object)}, {'logits': array([-0.8989374], dtype=float32), 'logistic': array([0.2892689], dtype=float32), 'probabilities': array([0.710731  , 0.28926888], dtype=float32), 'class_ids': array([0], dtype=int64), 'classes': array([b'0'], dtype=object)}, {'logits': array([-1.4648138], dtype=float32), 'logistic': array([0.18773216], dtype=float32), 'probabilities': array([0.8122678 , 0.18773216], dtype=float32), 'class_ids': array([0], dtype=int64), 'classes': array([b'0'], dtype=object)}, {'logits': array([-0.57993805], dtype=float32), 'logistic': array([0.35894686], dtype=float32), 'probabilities': array([0.64105314, 0.35894686], dtype=float32), 'class_ids': array([0], dtype=int64), 'classes': array([b'0'], dtype=object)}, {'logits': array([-0.7766135], dtype=float32), 'logistic': array([0.3150502], dtype=float32), 'probabilities': array([0.68494976, 0.3150502 ], dtype=float32), 'class_ids': array([0], dtype=int64), 'classes': array([b'0'], dtype=object)}, {'logits': array([-1.092523], dtype=float32), 'logistic': array([0.2511435], dtype=float32), 'probabilities': array([0.7488565 , 0.25114346], dtype=float32), 'class_ids': array([0], dtype=int64), 'classes': array([b'0'], dtype=object)}, {'logits': array([0.34077692], dtype=float32), 'logistic': array([0.58437926], dtype=float32), 'probabilities': array([0.41562077, 0.58437926], dtype=float32), 'class_ids': array([1], dtype=int64), 'classes': array([b'1'], dtype=object)}, {'logits': array([-1.6117034], dtype=float32), 'logistic': array([0.16635226], dtype=float32), 'probabilities': array([0.8336477 , 0.16635224], dtype=float32), 'class_ids': array([0], dtype=int64), 'classes': array([b'0'], dtype=object)}, {'logits': array([-0.41913247], dtype=float32), 'logistic': array([0.39672434], dtype=float32), 'probabilities': array([0.60327566, 0.39672437], dtype=float32), 'class_ids': array([0], dtype=int64), 'classes': array([b'0'], dtype=object)}, {'logits': array([-0.46097136], dtype=float32), 'logistic': array([0.3867554], dtype=float32), 'probabilities': array([0.6132446, 0.3867554], dtype=float32), 'class_ids': array([0], dtype=int64), 'classes': array([b'0'], dtype=object)}, {'logits': array([-0.6424179], dtype=float32), 'logistic': array([0.34470016], dtype=float32), 'probabilities': array([0.6552998 , 0.34470016], dtype=float32), 'class_ids': array([0], dtype=int64), 'classes': array([b'0'], dtype=object)}, {'logits': array([-0.75458884], dtype=float32), 'logistic': array([0.31982225], dtype=float32), 'probabilities': array([0.68017775, 0.31982222], dtype=float32), 'class_ids': array([0], dtype=int64), 'classes': array([b'0'], dtype=object)}, {'logits': array([-1.2106094], dtype=float32), 'logistic': array([0.22959325], dtype=float32), 'probabilities': array([0.7704068 , 0.22959323], dtype=float32), 'class_ids': array([0], dtype=int64), 'classes': array([b'0'], dtype=object)}, {'logits': array([-1.1389445], dtype=float32), 'logistic': array([0.24251421], dtype=float32), 'probabilities': array([0.75748575, 0.24251418], dtype=float32), 'class_ids': array([0], dtype=int64), 'classes': array([b'0'], dtype=object)}, {'logits': array([-0.8721882], dtype=float32), 'logistic': array([0.29479918], dtype=float32), 'probabilities': array([0.70520085, 0.2947992 ], dtype=float32), 'class_ids': array([0], dtype=int64), 'classes': array([b'0'], dtype=object)}, {'logits': array([0.21388769], dtype=float32), 'logistic': array([0.55326897], dtype=float32), 'probabilities': array([0.446731  , 0.55326897], dtype=float32), 'class_ids': array([1], dtype=int64), 'classes': array([b'1'], dtype=object)}, {'logits': array([-1.2347746], dtype=float32), 'logistic': array([0.22534686], dtype=float32), 'probabilities': array([0.77465314, 0.22534685], dtype=float32), 'class_ids': array([0], dtype=int64), 'classes': array([b'0'], dtype=object)}, {'logits': array([-0.905302], dtype=float32), 'logistic': array([0.28796217], dtype=float32), 'probabilities': array([0.71203786, 0.28796214], dtype=float32), 'class_ids': array([0], dtype=int64), 'classes': array([b'0'], dtype=object)}, {'logits': array([-0.64334226], dtype=float32), 'logistic': array([0.3444914], dtype=float32), 'probabilities': array([0.65550864, 0.34449142], dtype=float32), 'class_ids': array([0], dtype=int64), 'classes': array([b'0'], dtype=object)}, {'logits': array([-1.1767951], dtype=float32), 'logistic': array([0.23562892], dtype=float32), 'probabilities': array([0.7643711 , 0.23562895], dtype=float32), 'class_ids': array([0], dtype=int64), 'classes': array([b'0'], dtype=object)}, {'logits': array([-0.86361927], dtype=float32), 'logistic': array([0.29658374], dtype=float32), 'probabilities': array([0.7034163 , 0.29658374], dtype=float32), 'class_ids': array([0], dtype=int64), 'classes': array([b'0'], dtype=object)}, {'logits': array([-0.57488954], dtype=float32), 'logistic': array([0.36010936], dtype=float32), 'probabilities': array([0.6398907 , 0.36010936], dtype=float32), 'class_ids': array([0], dtype=int64), 'classes': array([b'0'], dtype=object)}, {'logits': array([-0.5554713], dtype=float32), 'logistic': array([0.36459598], dtype=float32), 'probabilities': array([0.63540405, 0.36459595], dtype=float32), 'class_ids': array([0], dtype=int64), 'classes': array([b'0'], dtype=object)}, {'logits': array([0.17526102], dtype=float32), 'logistic': array([0.54370344], dtype=float32), 'probabilities': array([0.45629653, 0.54370344], dtype=float32), 'class_ids': array([1], dtype=int64), 'classes': array([b'1'], dtype=object)}, {'logits': array([-0.88297343], dtype=float32), 'logistic': array([0.29256198], dtype=float32), 'probabilities': array([0.707438  , 0.29256198], dtype=float32), 'class_ids': array([0], dtype=int64), 'classes': array([b'0'], dtype=object)}, {'logits': array([-0.37345243], dtype=float32), 'logistic': array([0.40770707], dtype=float32), 'probabilities': array([0.5922929 , 0.40770704], dtype=float32), 'class_ids': array([0], dtype=int64), 'classes': array([b'0'], dtype=object)}, {'logits': array([-0.90658146], dtype=float32), 'logistic': array([0.28769988], dtype=float32), 'probabilities': array([0.7123001 , 0.28769988], dtype=float32), 'class_ids': array([0], dtype=int64), 'classes': array([b'0'], dtype=object)}, {'logits': array([-0.1559763], dtype=float32), 'logistic': array([0.4610848], dtype=float32), 'probabilities': array([0.5389152, 0.4610848], dtype=float32), 'class_ids': array([0], dtype=int64), 'classes': array([b'0'], dtype=object)}, {'logits': array([-1.2620857], dtype=float32), 'logistic': array([0.22061506], dtype=float32), 'probabilities': array([0.7793849 , 0.22061504], dtype=float32), 'class_ids': array([0], dtype=int64), 'classes': array([b'0'], dtype=object)}, {'logits': array([-1.2868725], dtype=float32), 'logistic': array([0.21638264], dtype=float32), 'probabilities': array([0.7836173 , 0.21638262], dtype=float32), 'class_ids': array([0], dtype=int64), 'classes': array([b'0'], dtype=object)}, {'logits': array([-0.39389515], dtype=float32), 'logistic': array([0.40277997], dtype=float32), 'probabilities': array([0.59722   , 0.40277997], dtype=float32), 'class_ids': array([0], dtype=int64), 'classes': array([b'0'], dtype=object)}, {'logits': array([0.01034391], dtype=float32), 'logistic': array([0.50258595], dtype=float32), 'probabilities': array([0.49741402, 0.50258595], dtype=float32), 'class_ids': array([1], dtype=int64), 'classes': array([b'1'], dtype=object)}, {'logits': array([-0.9625311], dtype=float32), 'logistic': array([0.27637172], dtype=float32), 'probabilities': array([0.7236283 , 0.27637172], dtype=float32), 'class_ids': array([0], dtype=int64), 'classes': array([b'0'], dtype=object)}, {'logits': array([-1.0854461], dtype=float32), 'logistic': array([0.25247678], dtype=float32), 'probabilities': array([0.74752325, 0.25247678], dtype=float32), 'class_ids': array([0], dtype=int64), 'classes': array([b'0'], dtype=object)}, {'logits': array([-0.4629879], dtype=float32), 'logistic': array([0.38627723], dtype=float32), 'probabilities': array([0.61372274, 0.38627726], dtype=float32), 'class_ids': array([0], dtype=int64), 'classes': array([b'0'], dtype=object)}, {'logits': array([-1.2595807], dtype=float32), 'logistic': array([0.22104606], dtype=float32), 'probabilities': array([0.77895397, 0.22104609], dtype=float32), 'class_ids': array([0], dtype=int64), 'classes': array([b'0'], dtype=object)}, {'logits': array([-0.389112], dtype=float32), 'logistic': array([0.40393108], dtype=float32), 'probabilities': array([0.5960689, 0.4039311], dtype=float32), 'class_ids': array([0], dtype=int64), 'classes': array([b'0'], dtype=object)}, {'logits': array([-1.0658686], dtype=float32), 'logistic': array([0.25618955], dtype=float32), 'probabilities': array([0.7438105 , 0.25618955], dtype=float32), 'class_ids': array([0], dtype=int64), 'classes': array([b'0'], dtype=object)}, {'logits': array([-0.9407951], dtype=float32), 'logistic': array([0.28073975], dtype=float32), 'probabilities': array([0.7192602 , 0.28073975], dtype=float32), 'class_ids': array([0], dtype=int64), 'classes': array([b'0'], dtype=object)}, {'logits': array([-1.4694493], dtype=float32), 'logistic': array([0.18702632], dtype=float32), 'probabilities': array([0.8129737 , 0.18702634], dtype=float32), 'class_ids': array([0], dtype=int64), 'classes': array([b'0'], dtype=object)}, {'logits': array([-0.84518147], dtype=float32), 'logistic': array([0.30044463], dtype=float32), 'probabilities': array([0.6995554 , 0.30044463], dtype=float32), 'class_ids': array([0], dtype=int64), 'classes': array([b'0'], dtype=object)}, {'logits': array([-0.8127204], dtype=float32), 'logistic': array([0.3073111], dtype=float32), 'probabilities': array([0.6926889, 0.3073111], dtype=float32), 'class_ids': array([0], dtype=int64), 'classes': array([b'0'], dtype=object)}, {'logits': array([-0.6738641], dtype=float32), 'logistic': array([0.33763212], dtype=float32), 'probabilities': array([0.6623679 , 0.33763215], dtype=float32), 'class_ids': array([0], dtype=int64), 'classes': array([b'0'], dtype=object)}, {'logits': array([-1.2449286], dtype=float32), 'logistic': array([0.22357926], dtype=float32), 'probabilities': array([0.7764207 , 0.22357926], dtype=float32), 'class_ids': array([0], dtype=int64), 'classes': array([b'0'], dtype=object)}, {'logits': array([-1.2680826], dtype=float32), 'logistic': array([0.21958566], dtype=float32), 'probabilities': array([0.78041434, 0.21958566], dtype=float32), 'class_ids': array([0], dtype=int64), 'classes': array([b'0'], dtype=object)}, {'logits': array([-0.4787675], dtype=float32), 'logistic': array([0.3825432], dtype=float32), 'probabilities': array([0.6174568, 0.3825432], dtype=float32), 'class_ids': array([0], dtype=int64), 'classes': array([b'0'], dtype=object)}]\n"
     ]
    }
   ],
   "source": [
    "print(my_pred)"
   ]
  },
  {
   "cell_type": "code",
   "execution_count": 44,
   "metadata": {},
   "outputs": [
    {
     "name": "stdout",
     "output_type": "stream",
     "text": [
      "INFO:tensorflow:Using default config.\n",
      "WARNING:tensorflow:Using temporary folder as model directory: C:\\Users\\Q-Admin\\AppData\\Local\\Temp\\tmplpmqn886\n",
      "INFO:tensorflow:Using config: {'_model_dir': 'C:\\\\Users\\\\Q-Admin\\\\AppData\\\\Local\\\\Temp\\\\tmplpmqn886', '_tf_random_seed': None, '_save_summary_steps': 100, '_save_checkpoints_steps': None, '_save_checkpoints_secs': 600, '_session_config': None, '_keep_checkpoint_max': 5, '_keep_checkpoint_every_n_hours': 10000, '_log_step_count_steps': 100, '_train_distribute': None, '_service': None, '_cluster_spec': <tensorflow.python.training.server_lib.ClusterSpec object at 0x000000BC38CD3630>, '_task_type': 'worker', '_task_id': 0, '_global_id_in_cluster': 0, '_master': '', '_evaluation_master': '', '_is_chief': True, '_num_ps_replicas': 0, '_num_worker_replicas': 1}\n"
     ]
    }
   ],
   "source": [
    "dnn_model=tf.estimator.DNNClassifier(hidden_units=[10,10,10],feature_columns=feat_cols,n_classes=2)"
   ]
  },
  {
   "cell_type": "code",
   "execution_count": 45,
   "metadata": {},
   "outputs": [
    {
     "name": "stdout",
     "output_type": "stream",
     "text": [
      "INFO:tensorflow:Calling model_fn.\n",
      "INFO:tensorflow:Done calling model_fn.\n",
      "INFO:tensorflow:Create CheckpointSaverHook.\n",
      "INFO:tensorflow:Graph was finalized.\n",
      "INFO:tensorflow:Running local_init_op.\n",
      "INFO:tensorflow:Done running local_init_op.\n",
      "INFO:tensorflow:Saving checkpoints for 1 into C:\\Users\\Q-Admin\\AppData\\Local\\Temp\\tmplpmqn886\\model.ckpt.\n",
      "INFO:tensorflow:loss = 7.0751038, step = 1\n",
      "INFO:tensorflow:global_step/sec: 436.472\n",
      "INFO:tensorflow:loss = 5.776727, step = 101 (0.232 sec)\n",
      "INFO:tensorflow:global_step/sec: 685.458\n",
      "INFO:tensorflow:loss = 6.6499243, step = 201 (0.145 sec)\n",
      "INFO:tensorflow:global_step/sec: 717.509\n",
      "INFO:tensorflow:loss = 6.2532606, step = 301 (0.140 sec)\n",
      "INFO:tensorflow:global_step/sec: 714.94\n",
      "INFO:tensorflow:loss = 5.9792533, step = 401 (0.142 sec)\n",
      "INFO:tensorflow:global_step/sec: 565.063\n",
      "INFO:tensorflow:loss = 6.279845, step = 501 (0.179 sec)\n",
      "INFO:tensorflow:global_step/sec: 651.857\n",
      "INFO:tensorflow:loss = 5.742811, step = 601 (0.149 sec)\n",
      "INFO:tensorflow:global_step/sec: 752.71\n",
      "INFO:tensorflow:loss = 6.6259904, step = 701 (0.131 sec)\n",
      "INFO:tensorflow:global_step/sec: 779.176\n",
      "INFO:tensorflow:loss = 6.574521, step = 801 (0.129 sec)\n",
      "INFO:tensorflow:global_step/sec: 764.242\n",
      "INFO:tensorflow:loss = 6.8342566, step = 901 (0.130 sec)\n",
      "INFO:tensorflow:Saving checkpoints for 1000 into C:\\Users\\Q-Admin\\AppData\\Local\\Temp\\tmplpmqn886\\model.ckpt.\n",
      "INFO:tensorflow:Loss for final step: 4.4066634.\n"
     ]
    },
    {
     "data": {
      "text/plain": [
       "<tensorflow.python.estimator.canned.dnn.DNNClassifier at 0xbc38cd30b8>"
      ]
     },
     "execution_count": 45,
     "metadata": {},
     "output_type": "execute_result"
    }
   ],
   "source": [
    "dnn_model.train(input_fn=input_func,steps=1000)"
   ]
  },
  {
   "cell_type": "code",
   "execution_count": 48,
   "metadata": {},
   "outputs": [],
   "source": [
    "test_dnn=tf.estimator.inputs.pandas_input_fn(x=X_test,y=y_test,batch_size=10,num_epochs=1,shuffle=False)"
   ]
  },
  {
   "cell_type": "code",
   "execution_count": 49,
   "metadata": {},
   "outputs": [
    {
     "name": "stdout",
     "output_type": "stream",
     "text": [
      "INFO:tensorflow:Calling model_fn.\n",
      "WARNING:tensorflow:Trapezoidal rule is known to produce incorrect PR-AUCs; please switch to \"careful_interpolation\" instead.\n",
      "WARNING:tensorflow:Trapezoidal rule is known to produce incorrect PR-AUCs; please switch to \"careful_interpolation\" instead.\n",
      "INFO:tensorflow:Done calling model_fn.\n",
      "INFO:tensorflow:Starting evaluation at 2018-06-05-09:47:22\n",
      "INFO:tensorflow:Graph was finalized.\n",
      "INFO:tensorflow:Restoring parameters from C:\\Users\\Q-Admin\\AppData\\Local\\Temp\\tmplpmqn886\\model.ckpt-1000\n",
      "INFO:tensorflow:Running local_init_op.\n",
      "INFO:tensorflow:Done running local_init_op.\n",
      "INFO:tensorflow:Finished evaluation at 2018-06-05-09:47:22\n",
      "INFO:tensorflow:Saving dict for global step 1000: accuracy = 0.64069265, accuracy_baseline = 0.6450217, auc = 0.69720906, auc_precision_recall = 0.4731586, average_loss = 0.63228816, global_step = 1000, label/mean = 0.35497835, loss = 6.0857735, precision = 0.33333334, prediction/mean = 0.27881444, recall = 0.0121951215\n"
     ]
    },
    {
     "data": {
      "text/plain": [
       "{'accuracy': 0.64069265,\n",
       " 'accuracy_baseline': 0.6450217,\n",
       " 'auc': 0.69720906,\n",
       " 'auc_precision_recall': 0.4731586,\n",
       " 'average_loss': 0.63228816,\n",
       " 'global_step': 1000,\n",
       " 'label/mean': 0.35497835,\n",
       " 'loss': 6.0857735,\n",
       " 'precision': 0.33333334,\n",
       " 'prediction/mean': 0.27881444,\n",
       " 'recall': 0.0121951215}"
      ]
     },
     "execution_count": 49,
     "metadata": {},
     "output_type": "execute_result"
    }
   ],
   "source": [
    "dnn_model.evaluate(test_dnn)"
   ]
  },
  {
   "cell_type": "code",
   "execution_count": null,
   "metadata": {},
   "outputs": [],
   "source": []
  }
 ],
 "metadata": {
  "kernelspec": {
   "display_name": "Python 3",
   "language": "python",
   "name": "python3"
  },
  "language_info": {
   "codemirror_mode": {
    "name": "ipython",
    "version": 3
   },
   "file_extension": ".py",
   "mimetype": "text/x-python",
   "name": "python",
   "nbconvert_exporter": "python",
   "pygments_lexer": "ipython3",
   "version": "3.6.5"
  }
 },
 "nbformat": 4,
 "nbformat_minor": 2
}
