{
 "cells": [
  {
   "cell_type": "code",
   "execution_count": 1,
   "metadata": {},
   "outputs": [
    {
     "name": "stderr",
     "output_type": "stream",
     "text": [
      "/home/aditya/anaconda3/lib/python3.6/site-packages/h5py/__init__.py:36: FutureWarning: Conversion of the second argument of issubdtype from `float` to `np.floating` is deprecated. In future, it will be treated as `np.float64 == np.dtype(float).type`.\n",
      "  from ._conv import register_converters as _register_converters\n"
     ]
    }
   ],
   "source": [
    "import tensorflow as tf\n",
    "import numpy as np"
   ]
  },
  {
   "cell_type": "code",
   "execution_count": 2,
   "metadata": {},
   "outputs": [
    {
     "name": "stdout",
     "output_type": "stream",
     "text": [
      "[[0.18977201 0.43800962 0.94305384 0.41511965]\n",
      " [0.48921382 0.56753147 0.38761592 0.6970315 ]\n",
      " [0.8010614  0.4662832  0.5119059  0.43881977]\n",
      " [0.94256604 0.25401127 0.46591914 0.14717937]]\n"
     ]
    }
   ],
   "source": [
    "a=tf.random_uniform((4,4),0,1)\n",
    "b=tf.Variable(initial_value=a)\n",
    "with tf.Session() as sess:\n",
    "    sess.run(tf.global_variables_initializer())\n",
    "    print(sess.run(b))"
   ]
  },
  {
   "cell_type": "code",
   "execution_count": 3,
   "metadata": {},
   "outputs": [],
   "source": [
    "ph=tf.placeholder(tf.float32)"
   ]
  },
  {
   "cell_type": "code",
   "execution_count": 4,
   "metadata": {},
   "outputs": [],
   "source": [
    "np.random.seed(101)\n",
    "tf.set_random_seed(101)"
   ]
  },
  {
   "cell_type": "code",
   "execution_count": 5,
   "metadata": {
    "scrolled": true
   },
   "outputs": [
    {
     "name": "stdout",
     "output_type": "stream",
     "text": [
      "[[51.63986277 57.06675869  2.84742265 17.15216562 68.52769817]\n",
      " [83.38968626 30.69662197 89.36130797 72.15438618 18.99389542]\n",
      " [55.42275911 35.2131954  18.18924027 78.56017619 96.54832224]\n",
      " [23.23536618  8.35614337 60.35484223 72.89927573 27.62388285]\n",
      " [68.53063288 51.78674742  4.84845374 13.78692376 18.69674261]]\n",
      "[[99.43179012 52.06653967 57.87895355 73.48190583 54.19617722]]\n"
     ]
    }
   ],
   "source": [
    "c=np.random.uniform(0,100,(5,5))\n",
    "print(c)\n",
    "d=np.random.uniform(0,100,(1,5))\n",
    "print(d)"
   ]
  },
  {
   "cell_type": "code",
   "execution_count": 6,
   "metadata": {},
   "outputs": [],
   "source": [
    "e=tf.placeholder(tf.float32)\n",
    "f=tf.placeholder(tf.float32)"
   ]
  },
  {
   "cell_type": "code",
   "execution_count": 7,
   "metadata": {},
   "outputs": [],
   "source": [
    "add_op=e+f\n",
    "mul_op=e*f"
   ]
  },
  {
   "cell_type": "code",
   "execution_count": 8,
   "metadata": {},
   "outputs": [
    {
     "name": "stdout",
     "output_type": "stream",
     "text": [
      "[[151.07166  109.1333    60.726376  90.63407  122.72388 ]\n",
      " [182.82147   82.76316  147.24026  145.63629   73.19007 ]\n",
      " [154.85455   87.27974   76.06819  152.04208  150.7445  ]\n",
      " [122.66716   60.422684 118.233795 146.38118   81.82006 ]\n",
      " [167.96243  103.85329   62.727406  87.26883   72.89292 ]]\n",
      "[[5134.644   2971.2686   164.80583 1260.3738  3713.9392 ]\n",
      " [8291.586   1598.267   5172.1387  5302.042   1029.3965 ]\n",
      " [5510.784   1833.4292  1052.7742  5772.751   5232.5503 ]\n",
      " [2310.3342   435.07544 3493.2751  5356.7773  1497.1089 ]\n",
      " [6814.1235  2696.3567   280.6234  1013.08936 1013.292  ]]\n"
     ]
    }
   ],
   "source": [
    "with tf.Session() as sess:\n",
    "    print(sess.run(add_op,feed_dict={e:c,f:d}))\n",
    "    print(sess.run(mul_op,feed_dict={e:c,f:d}))"
   ]
  },
  {
   "cell_type": "markdown",
   "metadata": {},
   "source": [
    "## Neural Network Example"
   ]
  },
  {
   "cell_type": "code",
   "execution_count": 9,
   "metadata": {},
   "outputs": [],
   "source": [
    "n_features=8\n",
    "n_dense=3\n",
    "X=tf.placeholder(tf.float32,shape=(None,n_features))\n",
    "w=tf.Variable(tf.random_normal([n_features,n_dense]))\n",
    "b1=tf.Variable(tf.ones([n_dense]))"
   ]
  },
  {
   "cell_type": "code",
   "execution_count": 10,
   "metadata": {},
   "outputs": [],
   "source": [
    "wX=tf.matmul(X,w)\n",
    "z=tf.add(wX,b1)\n",
    "a=tf.sigmoid(z)"
   ]
  },
  {
   "cell_type": "code",
   "execution_count": 11,
   "metadata": {},
   "outputs": [
    {
     "name": "stdout",
     "output_type": "stream",
     "text": [
      "[[ 1.3497776   1.3446777  -1.0269428 ]\n",
      " [-0.22857745 -0.9509208  -0.0440236 ]\n",
      " [ 0.13411161 -0.47139984 -1.0944196 ]\n",
      " [ 1.4307058   0.13825673 -1.8953743 ]\n",
      " [-1.7378299  -0.3875229   1.0206395 ]\n",
      " [ 1.1046331   0.09345824 -1.7044053 ]\n",
      " [-2.2771144   1.2998196  -0.48315564]\n",
      " [ 0.62724334 -0.42766783  1.4548593 ]]\n",
      "[1. 1. 1.]\n",
      "[[-1.12484336e-01  1.75128889e+00  8.53690505e-02]\n",
      " [ 1.24978280e+00  7.15801477e-01 -3.72450829e-01]\n",
      " [ 2.09674311e+00  1.23043990e+00 -1.27906322e+00]\n",
      " [ 1.66168952e+00  1.63814831e+00  4.08153653e-01]\n",
      " [ 2.99498320e+00  1.37140441e+00 -6.74528956e-01]\n",
      " [ 5.57489634e-01  1.60270953e+00 -6.16349816e-01]\n",
      " [ 3.24939489e-01  2.60038424e+00 -2.24657679e+00]\n",
      " [ 1.98344755e+00  1.97193742e+00 -1.79131079e+00]\n",
      " [-1.89402223e-01  6.55844450e-01 -7.80673981e-01]\n",
      " [ 2.17974186e-03  1.94150269e+00 -1.05622983e+00]\n",
      " [ 1.58090520e+00  5.01990438e-01 -5.07464409e-01]\n",
      " [ 1.14963651e+00  1.77396202e+00 -8.26107144e-01]\n",
      " [ 2.10661077e+00  3.32427323e-01  1.55180752e-01]\n",
      " [-1.70176315e+00  6.90906346e-01  7.62898207e-01]\n",
      " [ 1.00676680e+00  6.31255925e-01 -2.67218351e-02]\n",
      " [ 1.13648152e+00  1.39617085e+00 -7.18376398e-01]\n",
      " [ 4.51633334e-01  5.43671429e-01 -9.93764400e-01]\n",
      " [ 2.08725524e+00  1.26390553e+00 -1.24379873e+00]\n",
      " [-2.16836929e-01  1.28272343e+00 -1.76431179e+00]\n",
      " [ 7.37192392e-01  1.50497103e+00  2.00428426e-01]\n",
      " [ 2.23267221e+00  9.67788637e-01 -4.23718452e-01]\n",
      " [-1.45053554e+00  8.25049937e-01  1.06292462e+00]\n",
      " [ 3.04474831e-01  1.19953978e+00 -3.93767357e-01]\n",
      " [ 1.35012603e+00 -4.11057472e-02 -4.74636793e-01]\n",
      " [ 3.33734584e+00  2.20833969e+00 -2.53318214e+00]\n",
      " [ 1.11618352e+00  2.16777730e+00 -2.56780815e+00]\n",
      " [ 7.07534254e-01  8.95937324e-01 -6.26740932e-01]\n",
      " [ 2.10005975e+00  4.75960433e-01 -1.61762428e+00]\n",
      " [-2.49617100e-02  9.95270729e-01 -5.41038156e-01]\n",
      " [ 2.65624905e+00  1.40611911e+00 -1.06357813e+00]]\n",
      "[[0.9336228  0.5035044  0.18715103]\n",
      " [0.6231357  0.61781865 0.58773005]\n",
      " [0.8690629  0.8125257  0.23331065]\n",
      " [0.8345467  0.90905946 0.15773734]\n",
      " [0.3373819  0.72588277 0.51876277]\n",
      " [0.80422515 0.7449618  0.3263864 ]\n",
      " [0.51008576 0.8158601  0.4917853 ]\n",
      " [0.92451704 0.7399405  0.12163767]\n",
      " [0.56888974 0.8888809  0.16072187]\n",
      " [0.6827326  0.62523377 0.18589206]\n",
      " [0.9077697  0.6315885  0.17014723]\n",
      " [0.32437983 0.8461974  0.62724924]\n",
      " [0.7007713  0.9486106  0.06739678]\n",
      " [0.3710326  0.9247655  0.28423196]\n",
      " [0.9161649  0.6642277  0.39941302]\n",
      " [0.470491   0.6442955  0.42711106]\n",
      " [0.7757319  0.8813971  0.2870244 ]\n",
      " [0.8783981  0.6959969  0.3089641 ]\n",
      " [0.69825995 0.78099895 0.32153848]\n",
      " [0.39393187 0.8686613  0.21334392]\n",
      " [0.83076763 0.76914406 0.19260973]\n",
      " [0.55875313 0.8454736  0.3577536 ]\n",
      " [0.50031275 0.8204863  0.11775193]\n",
      " [0.54348665 0.8137984  0.09340618]\n",
      " [0.902714   0.8497246  0.08541112]\n",
      " [0.98211664 0.851415   0.12363639]\n",
      " [0.6396808  0.7798144  0.48709038]\n",
      " [0.40924782 0.57892483 0.8500897 ]\n",
      " [0.6662901  0.91780555 0.3248354 ]\n",
      " [0.9433666  0.65589446 0.18648836]]\n"
     ]
    }
   ],
   "source": [
    "with tf.Session() as sess:\n",
    "    sess.run(tf.global_variables_initializer())\n",
    "    print(sess.run(w))\n",
    "    print(sess.run(b1))\n",
    "    print(sess.run(z,feed_dict={X:np.random.random([30,n_features])}))\n",
    "    print(sess.run(a,feed_dict={X:np.random.random([30,n_features])}))"
   ]
  },
  {
   "cell_type": "markdown",
   "metadata": {},
   "source": [
    "## Linear Regression Example"
   ]
  },
  {
   "cell_type": "code",
   "execution_count": 12,
   "metadata": {},
   "outputs": [
    {
     "name": "stdout",
     "output_type": "stream",
     "text": [
      "[0.60659063 1.30996778 2.13820694 2.6422082  4.13179575 5.55751561\n",
      " 6.80148138 6.848111   9.20313003 9.59454531]\n",
      "[0.19122135 1.32673184 2.17646259 3.6602938  4.63173409 6.21056643\n",
      " 6.33429128 7.34397516 8.46428627 9.90431267]\n"
     ]
    }
   ],
   "source": [
    "X_data=np.linspace(0,10,10)+np.random.uniform(-1,1,10)\n",
    "y_label=np.linspace(0,10,10)+np.random.uniform(-1,1,10)\n",
    "print(X_data)\n",
    "print(y_label)"
   ]
  },
  {
   "cell_type": "code",
   "execution_count": 13,
   "metadata": {},
   "outputs": [
    {
     "data": {
      "text/plain": [
       "[<matplotlib.lines.Line2D at 0x7f69cb580748>]"
      ]
     },
     "execution_count": 13,
     "metadata": {},
     "output_type": "execute_result"
    },
    {
     "data": {
      "image/png": "[encoded data removed]",
      "text/plain": [
       "<Figure size 432x288 with 1 Axes>"
      ]
     },
     "metadata": {},
     "output_type": "display_data"
    }
   ],
   "source": [
    "import matplotlib.pyplot as plt\n",
    "%matplotlib inline\n",
    "plt.plot(X_data,y_label,'*')"
   ]
  },
  {
   "cell_type": "code",
   "execution_count": 14,
   "metadata": {},
   "outputs": [],
   "source": [
    "w2=tf.Variable(2.34)\n",
    "b2=tf.Variable(1.56)"
   ]
  },
  {
   "cell_type": "code",
   "execution_count": 15,
   "metadata": {},
   "outputs": [],
   "source": [
    "error=0\n",
    "for x,y in zip(X_data,y_label):\n",
    "    pred=(w2*x+b2)\n",
    "    error+=(pred-y)**2"
   ]
  },
  {
   "cell_type": "code",
   "execution_count": 16,
   "metadata": {},
   "outputs": [],
   "source": [
    "optimizer=tf.train.GradientDescentOptimizer(learning_rate=0.001)"
   ]
  },
  {
   "cell_type": "code",
   "execution_count": 17,
   "metadata": {},
   "outputs": [],
   "source": [
    "train=optimizer.minimize(error)"
   ]
  },
  {
   "cell_type": "code",
   "execution_count": 19,
   "metadata": {},
   "outputs": [
    {
     "name": "stdout",
     "output_type": "stream",
     "text": [
      "0.9750629\n",
      "0.26400486\n",
      "2.7394445\n"
     ]
    }
   ],
   "source": [
    "with tf.Session() as sess:\n",
    "    sess.run(tf.global_variables_initializer())\n",
    "    for i in range(1000):\n",
    "        sess.run(train)\n",
    "    print(sess.run(w2))\n",
    "    print(sess.run(b2))\n",
    "    print(sess.run(error))"
   ]
  },
  {
   "cell_type": "code",
   "execution_count": null,
   "metadata": {},
   "outputs": [],
   "source": []
  }
 ],
 "metadata": {
  "kernelspec": {
   "display_name": "Python 3",
   "language": "python",
   "name": "python3"
  },
  "language_info": {
   "codemirror_mode": {
    "name": "ipython",
    "version": 3
   },
   "file_extension": ".py",
   "mimetype": "text/x-python",
   "name": "python",
   "nbconvert_exporter": "python",
   "pygments_lexer": "ipython3",
   "version": "3.6.5"
  }
 },
 "nbformat": 4,
 "nbformat_minor": 2
}
