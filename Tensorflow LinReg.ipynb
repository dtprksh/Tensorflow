{
 "cells": [
  {
   "cell_type": "code",
   "execution_count": 37,
   "metadata": {},
   "outputs": [],
   "source": [
    "import numpy as np\n",
    "import pandas as pd\n",
    "import tensorflow as tf\n",
    "import matplotlib.pyplot as plt\n",
    "%matplotlib inline"
   ]
  },
  {
   "cell_type": "code",
   "execution_count": 38,
   "metadata": {},
   "outputs": [],
   "source": [
    "x=np.linspace(0,500,1000000)\n",
    "noise=np.random.randn(len(x))"
   ]
  },
  {
   "cell_type": "code",
   "execution_count": 39,
   "metadata": {},
   "outputs": [],
   "source": [
    "y_true=0.5*x+5+noise"
   ]
  },
  {
   "cell_type": "code",
   "execution_count": 40,
   "metadata": {},
   "outputs": [],
   "source": [
    "x_df=pd.DataFrame(x,columns=['X'])\n",
    "y_df=pd.DataFrame(y_true,columns=['Y'])"
   ]
  },
  {
   "cell_type": "code",
   "execution_count": 41,
   "metadata": {},
   "outputs": [
    {
     "data": {
      "text/html": [
       "<div>\n",
       "<style scoped>\n",
       "    .dataframe tbody tr th:only-of-type {\n",
       "        vertical-align: middle;\n",
       "    }\n",
       "\n",
       "    .dataframe tbody tr th {\n",
       "        vertical-align: top;\n",
       "    }\n",
       "\n",
       "    .dataframe thead th {\n",
       "        text-align: right;\n",
       "    }\n",
       "</style>\n",
       "<table border=\"1\" class=\"dataframe\">\n",
       "  <thead>\n",
       "    <tr style=\"text-align: right;\">\n",
       "      <th></th>\n",
       "      <th>X</th>\n",
       "      <th>Y</th>\n",
       "    </tr>\n",
       "  </thead>\n",
       "  <tbody>\n",
       "    <tr>\n",
       "      <th>0</th>\n",
       "      <td>0.0000</td>\n",
       "      <td>6.135134</td>\n",
       "    </tr>\n",
       "    <tr>\n",
       "      <th>1</th>\n",
       "      <td>0.0005</td>\n",
       "      <td>3.850727</td>\n",
       "    </tr>\n",
       "    <tr>\n",
       "      <th>2</th>\n",
       "      <td>0.0010</td>\n",
       "      <td>3.547919</td>\n",
       "    </tr>\n",
       "    <tr>\n",
       "      <th>3</th>\n",
       "      <td>0.0015</td>\n",
       "      <td>2.731275</td>\n",
       "    </tr>\n",
       "    <tr>\n",
       "      <th>4</th>\n",
       "      <td>0.0020</td>\n",
       "      <td>4.872031</td>\n",
       "    </tr>\n",
       "  </tbody>\n",
       "</table>\n",
       "</div>"
      ],
      "text/plain": [
       "        X         Y\n",
       "0  0.0000  6.135134\n",
       "1  0.0005  3.850727\n",
       "2  0.0010  3.547919\n",
       "3  0.0015  2.731275\n",
       "4  0.0020  4.872031"
      ]
     },
     "execution_count": 41,
     "metadata": {},
     "output_type": "execute_result"
    }
   ],
   "source": [
    "data=pd.concat([x_df,y_df],axis=1)\n",
    "data.head()"
   ]
  },
  {
   "cell_type": "code",
   "execution_count": 42,
   "metadata": {},
   "outputs": [
    {
     "data": {
      "text/plain": [
       "<matplotlib.axes._subplots.AxesSubplot at 0xf56a285e48>"
      ]
     },
     "execution_count": 42,
     "metadata": {},
     "output_type": "execute_result"
    },
    {
     "data": {
      "image/png": "[encoded data removed]",
      "text/plain": [
       "<matplotlib.figure.Figure at 0xf56a29deb8>"
      ]
     },
     "metadata": {},
     "output_type": "display_data"
    }
   ],
   "source": [
    "data.sample(n=200).plot(kind='scatter',x='X',y='Y')"
   ]
  },
  {
   "cell_type": "code",
   "execution_count": 43,
   "metadata": {},
   "outputs": [
    {
     "data": {
      "text/plain": [
       "array([-0.50729196, -0.53789123])"
      ]
     },
     "execution_count": 43,
     "metadata": {},
     "output_type": "execute_result"
    }
   ],
   "source": [
    "np.random.randn(2)"
   ]
  },
  {
   "cell_type": "code",
   "execution_count": 44,
   "metadata": {},
   "outputs": [],
   "source": [
    "m=tf.Variable(1.94)\n",
    "b=tf.Variable(1.54)"
   ]
  },
  {
   "cell_type": "code",
   "execution_count": 51,
   "metadata": {},
   "outputs": [],
   "source": [
    "batch_size=10\n",
    "xph=tf.placeholder(tf.float32,[batch_size])\n",
    "yph=tf.placeholder(tf.float32,[batch_size])\n",
    "pred=m*xph+b\n",
    "error=tf.reduce_sum(tf.square(pred-yph))\n",
    "optimizer=tf.train.GradientDescentOptimizer(learning_rate=0.000001)\n",
    "train=optimizer.minimize(error)"
   ]
  },
  {
   "cell_type": "code",
   "execution_count": 52,
   "metadata": {},
   "outputs": [],
   "source": [
    "with tf.Session() as sess:\n",
    "    sess.run(tf.global_variables_initializer())\n",
    "    batch=5000\n",
    "    for i in range(batch):\n",
    "        rand_ind=np.random.randint(len(x),size=batch_size)\n",
    "        f={xph:x[rand_ind],yph:y_true[rand_ind]}\n",
    "        sess.run(train,feed_dict=f)\n",
    "    m_model,b_model=sess.run([m,b])"
   ]
  },
  {
   "cell_type": "code",
   "execution_count": 53,
   "metadata": {},
   "outputs": [
    {
     "name": "stdout",
     "output_type": "stream",
     "text": [
      "0.5138338\n",
      "1.6232456\n"
     ]
    }
   ],
   "source": [
    "print(m_model)\n",
    "print(b_model)"
   ]
  },
  {
   "cell_type": "code",
   "execution_count": 54,
   "metadata": {},
   "outputs": [],
   "source": [
    "y_hat=m_model*x+b_model"
   ]
  },
  {
   "cell_type": "code",
   "execution_count": 55,
   "metadata": {},
   "outputs": [
    {
     "data": {
      "text/plain": [
       "[<matplotlib.lines.Line2D at 0xf571537908>]"
      ]
     },
     "execution_count": 55,
     "metadata": {},
     "output_type": "execute_result"
    },
    {
     "data": {
      "image/png": "[encoded data removed]",
      "text/plain": [
       "<matplotlib.figure.Figure at 0xf571537dd8>"
      ]
     },
     "metadata": {},
     "output_type": "display_data"
    }
   ],
   "source": [
    "data.sample(200).plot(kind='scatter',x='X',y='Y')\n",
    "plt.plot(x,y_hat,'r')"
   ]
  },
  {
   "cell_type": "markdown",
   "metadata": {},
   "source": [
    "## TF Estimator "
   ]
  },
  {
   "cell_type": "code",
   "execution_count": 56,
   "metadata": {},
   "outputs": [
    {
     "name": "stdout",
     "output_type": "stream",
     "text": [
      "INFO:tensorflow:Using default config.\n",
      "WARNING:tensorflow:Using temporary folder as model directory: C:\\Users\\Q-Admin\\AppData\\Local\\Temp\\tmpu_25np6h\n",
      "INFO:tensorflow:Using config: {'_model_dir': 'C:\\\\Users\\\\Q-Admin\\\\AppData\\\\Local\\\\Temp\\\\tmpu_25np6h', '_tf_random_seed': None, '_save_summary_steps': 100, '_save_checkpoints_steps': None, '_save_checkpoints_secs': 600, '_session_config': None, '_keep_checkpoint_max': 5, '_keep_checkpoint_every_n_hours': 10000, '_log_step_count_steps': 100, '_train_distribute': None, '_service': None, '_cluster_spec': <tensorflow.python.training.server_lib.ClusterSpec object at 0x000000F5715D82E8>, '_task_type': 'worker', '_task_id': 0, '_global_id_in_cluster': 0, '_master': '', '_evaluation_master': '', '_is_chief': True, '_num_ps_replicas': 0, '_num_worker_replicas': 1}\n"
     ]
    }
   ],
   "source": [
    "feat_cols=[tf.feature_column.numeric_column('x',shape=[1])]\n",
    "estimator=tf.estimator.LinearRegressor(feature_columns=feat_cols)"
   ]
  },
  {
   "cell_type": "code",
   "execution_count": 57,
   "metadata": {},
   "outputs": [],
   "source": [
    "from sklearn.model_selection import train_test_split"
   ]
  },
  {
   "cell_type": "code",
   "execution_count": 58,
   "metadata": {},
   "outputs": [],
   "source": [
    "x_train,x_test,y_train,y_test=train_test_split(x,y_true,test_size=0.25)"
   ]
  },
  {
   "cell_type": "code",
   "execution_count": 59,
   "metadata": {},
   "outputs": [
    {
     "name": "stdout",
     "output_type": "stream",
     "text": [
      "(750000,)\n"
     ]
    }
   ],
   "source": [
    "print(x_train.shape)"
   ]
  },
  {
   "cell_type": "code",
   "execution_count": 60,
   "metadata": {},
   "outputs": [],
   "source": [
    "input_func=tf.estimator.inputs.numpy_input_fn({'x':x_train},y_train,num_epochs=None,shuffle=True)"
   ]
  },
  {
   "cell_type": "code",
   "execution_count": 61,
   "metadata": {},
   "outputs": [],
   "source": [
    "train_input_func=tf.estimator.inputs.numpy_input_fn({'x':x_train},y_train,num_epochs=1000,shuffle=False)"
   ]
  },
  {
   "cell_type": "code",
   "execution_count": 62,
   "metadata": {},
   "outputs": [],
   "source": [
    "test_input_func=tf.estimator.inputs.numpy_input_fn({'x':x_test},y_test,num_epochs=1000,shuffle=False)"
   ]
  },
  {
   "cell_type": "code",
   "execution_count": 66,
   "metadata": {},
   "outputs": [
    {
     "name": "stdout",
     "output_type": "stream",
     "text": [
      "INFO:tensorflow:Calling model_fn.\n",
      "INFO:tensorflow:Done calling model_fn.\n",
      "INFO:tensorflow:Create CheckpointSaverHook.\n",
      "INFO:tensorflow:Graph was finalized.\n",
      "INFO:tensorflow:Restoring parameters from C:\\Users\\Q-Admin\\AppData\\Local\\Temp\\tmpu_25np6h\\model.ckpt-2000\n",
      "INFO:tensorflow:Running local_init_op.\n",
      "INFO:tensorflow:Done running local_init_op.\n",
      "INFO:tensorflow:Saving checkpoints for 2001 into C:\\Users\\Q-Admin\\AppData\\Local\\Temp\\tmpu_25np6h\\model.ckpt.\n",
      "INFO:tensorflow:loss = 342.08734, step = 2001\n",
      "INFO:tensorflow:global_step/sec: 945.28\n",
      "INFO:tensorflow:loss = 295.6059, step = 2101 (0.107 sec)\n",
      "INFO:tensorflow:global_step/sec: 1347.93\n",
      "INFO:tensorflow:loss = 270.22113, step = 2201 (0.074 sec)\n",
      "INFO:tensorflow:global_step/sec: 1608.61\n",
      "INFO:tensorflow:loss = 281.5863, step = 2301 (0.062 sec)\n",
      "INFO:tensorflow:global_step/sec: 1466.68\n",
      "INFO:tensorflow:loss = 294.4449, step = 2401 (0.068 sec)\n",
      "INFO:tensorflow:global_step/sec: 1424.77\n",
      "INFO:tensorflow:loss = 266.4563, step = 2501 (0.070 sec)\n",
      "INFO:tensorflow:global_step/sec: 1499.77\n",
      "INFO:tensorflow:loss = 311.63058, step = 2601 (0.067 sec)\n",
      "INFO:tensorflow:global_step/sec: 1385.18\n",
      "INFO:tensorflow:loss = 247.62889, step = 2701 (0.072 sec)\n",
      "INFO:tensorflow:global_step/sec: 1534.39\n",
      "INFO:tensorflow:loss = 277.0066, step = 2801 (0.065 sec)\n",
      "INFO:tensorflow:global_step/sec: 1499.75\n",
      "INFO:tensorflow:loss = 251.29004, step = 2901 (0.067 sec)\n",
      "INFO:tensorflow:global_step/sec: 1404.69\n",
      "INFO:tensorflow:loss = 295.9593, step = 3001 (0.071 sec)\n",
      "INFO:tensorflow:global_step/sec: 1488.58\n",
      "INFO:tensorflow:loss = 218.07787, step = 3101 (0.067 sec)\n",
      "INFO:tensorflow:global_step/sec: 1488.57\n",
      "INFO:tensorflow:loss = 248.97096, step = 3201 (0.067 sec)\n",
      "INFO:tensorflow:global_step/sec: 1558.3\n",
      "INFO:tensorflow:loss = 232.05145, step = 3301 (0.065 sec)\n",
      "INFO:tensorflow:global_step/sec: 1466.71\n",
      "INFO:tensorflow:loss = 202.64749, step = 3401 (0.068 sec)\n",
      "INFO:tensorflow:global_step/sec: 1435.01\n",
      "INFO:tensorflow:loss = 205.77048, step = 3501 (0.070 sec)\n",
      "INFO:tensorflow:global_step/sec: 1595.74\n",
      "INFO:tensorflow:loss = 189.95592, step = 3601 (0.062 sec)\n",
      "INFO:tensorflow:global_step/sec: 1499.77\n",
      "INFO:tensorflow:loss = 210.53543, step = 3701 (0.067 sec)\n",
      "INFO:tensorflow:global_step/sec: 1648.48\n",
      "INFO:tensorflow:loss = 227.71216, step = 3801 (0.060 sec)\n",
      "INFO:tensorflow:global_step/sec: 1648.52\n",
      "INFO:tensorflow:loss = 219.64948, step = 3901 (0.061 sec)\n",
      "INFO:tensorflow:global_step/sec: 1488.56\n",
      "INFO:tensorflow:loss = 190.02527, step = 4001 (0.067 sec)\n",
      "INFO:tensorflow:global_step/sec: 1499.76\n",
      "INFO:tensorflow:loss = 193.44853, step = 4101 (0.067 sec)\n",
      "INFO:tensorflow:global_step/sec: 1477.54\n",
      "INFO:tensorflow:loss = 160.44537, step = 4201 (0.068 sec)\n",
      "INFO:tensorflow:global_step/sec: 1546.27\n",
      "INFO:tensorflow:loss = 194.03194, step = 4301 (0.064 sec)\n",
      "INFO:tensorflow:global_step/sec: 1499.75\n",
      "INFO:tensorflow:loss = 148.42218, step = 4401 (0.067 sec)\n",
      "INFO:tensorflow:global_step/sec: 1414.67\n",
      "INFO:tensorflow:loss = 177.9025, step = 4501 (0.070 sec)\n",
      "INFO:tensorflow:global_step/sec: 1621.7\n",
      "INFO:tensorflow:loss = 217.7092, step = 4601 (0.062 sec)\n",
      "INFO:tensorflow:global_step/sec: 1570.62\n",
      "INFO:tensorflow:loss = 142.94646, step = 4701 (0.064 sec)\n",
      "INFO:tensorflow:global_step/sec: 1570.61\n",
      "INFO:tensorflow:loss = 148.46559, step = 4801 (0.064 sec)\n",
      "INFO:tensorflow:global_step/sec: 1546.25\n",
      "INFO:tensorflow:loss = 161.64917, step = 4901 (0.065 sec)\n",
      "INFO:tensorflow:global_step/sec: 1466.68\n",
      "INFO:tensorflow:loss = 172.38907, step = 5001 (0.068 sec)\n",
      "INFO:tensorflow:global_step/sec: 1608.63\n",
      "INFO:tensorflow:loss = 179.09727, step = 5101 (0.063 sec)\n",
      "INFO:tensorflow:global_step/sec: 1435.01\n",
      "INFO:tensorflow:loss = 137.7713, step = 5201 (0.069 sec)\n",
      "INFO:tensorflow:global_step/sec: 1595.74\n",
      "INFO:tensorflow:loss = 157.05061, step = 5301 (0.063 sec)\n",
      "INFO:tensorflow:global_step/sec: 1662.24\n",
      "INFO:tensorflow:loss = 185.15887, step = 5401 (0.060 sec)\n",
      "INFO:tensorflow:global_step/sec: 1558.35\n",
      "INFO:tensorflow:loss = 192.97054, step = 5501 (0.064 sec)\n",
      "INFO:tensorflow:global_step/sec: 1765.2\n",
      "INFO:tensorflow:loss = 153.0693, step = 5601 (0.057 sec)\n",
      "INFO:tensorflow:global_step/sec: 1719.56\n",
      "INFO:tensorflow:loss = 172.58295, step = 5701 (0.058 sec)\n",
      "INFO:tensorflow:global_step/sec: 1648.48\n",
      "INFO:tensorflow:loss = 122.30614, step = 5801 (0.060 sec)\n",
      "INFO:tensorflow:global_step/sec: 1813.36\n",
      "INFO:tensorflow:loss = 159.47295, step = 5901 (0.056 sec)\n",
      "INFO:tensorflow:global_step/sec: 1662.21\n",
      "INFO:tensorflow:loss = 139.92175, step = 6001 (0.060 sec)\n",
      "INFO:tensorflow:global_step/sec: 1719.56\n",
      "INFO:tensorflow:loss = 164.69641, step = 6101 (0.058 sec)\n",
      "INFO:tensorflow:global_step/sec: 1558.35\n",
      "INFO:tensorflow:loss = 159.76888, step = 6201 (0.064 sec)\n",
      "INFO:tensorflow:global_step/sec: 1488.58\n",
      "INFO:tensorflow:loss = 200.98874, step = 6301 (0.067 sec)\n",
      "INFO:tensorflow:global_step/sec: 1846.89\n",
      "INFO:tensorflow:loss = 127.70471, step = 6401 (0.056 sec)\n",
      "INFO:tensorflow:global_step/sec: 1676.22\n",
      "INFO:tensorflow:loss = 167.27646, step = 6501 (0.058 sec)\n",
      "INFO:tensorflow:global_step/sec: 1662.24\n",
      "INFO:tensorflow:loss = 166.59886, step = 6601 (0.060 sec)\n",
      "INFO:tensorflow:global_step/sec: 1477.54\n",
      "INFO:tensorflow:loss = 138.58951, step = 6701 (0.068 sec)\n",
      "INFO:tensorflow:global_step/sec: 1455.98\n",
      "INFO:tensorflow:loss = 109.82734, step = 6801 (0.069 sec)\n",
      "INFO:tensorflow:global_step/sec: 1424.76\n",
      "INFO:tensorflow:loss = 140.78879, step = 6901 (0.071 sec)\n",
      "INFO:tensorflow:global_step/sec: 1375.64\n",
      "INFO:tensorflow:loss = 119.73273, step = 7001 (0.073 sec)\n",
      "INFO:tensorflow:global_step/sec: 1499.75\n",
      "INFO:tensorflow:loss = 138.60909, step = 7101 (0.066 sec)\n",
      "INFO:tensorflow:global_step/sec: 1608.63\n",
      "INFO:tensorflow:loss = 160.9799, step = 7201 (0.062 sec)\n",
      "INFO:tensorflow:global_step/sec: 1621.68\n",
      "INFO:tensorflow:loss = 129.68628, step = 7301 (0.062 sec)\n",
      "INFO:tensorflow:global_step/sec: 1595.75\n",
      "INFO:tensorflow:loss = 152.26508, step = 7401 (0.062 sec)\n",
      "INFO:tensorflow:global_step/sec: 1595.74\n",
      "INFO:tensorflow:loss = 121.21521, step = 7501 (0.063 sec)\n",
      "INFO:tensorflow:global_step/sec: 1829.98\n",
      "INFO:tensorflow:loss = 155.19771, step = 7601 (0.055 sec)\n",
      "INFO:tensorflow:global_step/sec: 1780.98\n",
      "INFO:tensorflow:loss = 159.31161, step = 7701 (0.056 sec)\n",
      "INFO:tensorflow:global_step/sec: 1558.33\n",
      "INFO:tensorflow:loss = 164.51268, step = 7801 (0.064 sec)\n",
      "INFO:tensorflow:global_step/sec: 1583.08\n",
      "INFO:tensorflow:loss = 147.5518, step = 7901 (0.063 sec)\n",
      "INFO:tensorflow:global_step/sec: 1570.62\n",
      "INFO:tensorflow:loss = 137.0689, step = 8001 (0.064 sec)\n",
      "INFO:tensorflow:global_step/sec: 1621.68\n",
      "INFO:tensorflow:loss = 144.96172, step = 8101 (0.062 sec)\n",
      "INFO:tensorflow:global_step/sec: 1690.42\n",
      "INFO:tensorflow:loss = 132.02553, step = 8201 (0.059 sec)\n",
      "INFO:tensorflow:global_step/sec: 1634.98\n",
      "INFO:tensorflow:loss = 140.34392, step = 8301 (0.061 sec)\n",
      "INFO:tensorflow:global_step/sec: 1466.68\n",
      "INFO:tensorflow:loss = 121.21174, step = 8401 (0.068 sec)\n",
      "INFO:tensorflow:global_step/sec: 1522.65\n",
      "INFO:tensorflow:loss = 115.6965, step = 8501 (0.066 sec)\n",
      "INFO:tensorflow:global_step/sec: 1558.35\n",
      "INFO:tensorflow:loss = 115.94086, step = 8601 (0.064 sec)\n",
      "INFO:tensorflow:global_step/sec: 1719.56\n",
      "INFO:tensorflow:loss = 149.44759, step = 8701 (0.058 sec)\n",
      "INFO:tensorflow:global_step/sec: 1583.07\n",
      "INFO:tensorflow:loss = 92.50753, step = 8801 (0.063 sec)\n",
      "INFO:tensorflow:global_step/sec: 1511.13\n",
      "INFO:tensorflow:loss = 136.67679, step = 8901 (0.066 sec)\n",
      "INFO:tensorflow:global_step/sec: 1477.53\n",
      "INFO:tensorflow:loss = 114.136734, step = 9001 (0.068 sec)\n",
      "INFO:tensorflow:global_step/sec: 1595.67\n",
      "INFO:tensorflow:loss = 166.52118, step = 9101 (0.062 sec)\n",
      "INFO:tensorflow:global_step/sec: 1635.07\n",
      "INFO:tensorflow:loss = 123.63968, step = 9201 (0.061 sec)\n",
      "INFO:tensorflow:global_step/sec: 1511.12\n",
      "INFO:tensorflow:loss = 102.926506, step = 9301 (0.066 sec)\n",
      "INFO:tensorflow:global_step/sec: 1404.7\n",
      "INFO:tensorflow:loss = 135.44147, step = 9401 (0.071 sec)\n",
      "INFO:tensorflow:global_step/sec: 1303.71\n",
      "INFO:tensorflow:loss = 137.29784, step = 9501 (0.077 sec)\n",
      "INFO:tensorflow:global_step/sec: 1634.98\n",
      "INFO:tensorflow:loss = 118.38498, step = 9601 (0.061 sec)\n",
      "INFO:tensorflow:global_step/sec: 1570.62\n",
      "INFO:tensorflow:loss = 125.41565, step = 9701 (0.064 sec)\n",
      "INFO:tensorflow:global_step/sec: 1445.41\n",
      "INFO:tensorflow:loss = 132.6623, step = 9801 (0.069 sec)\n"
     ]
    },
    {
     "name": "stdout",
     "output_type": "stream",
     "text": [
      "INFO:tensorflow:global_step/sec: 1583.09\n",
      "INFO:tensorflow:loss = 116.37264, step = 9901 (0.063 sec)\n",
      "INFO:tensorflow:global_step/sec: 1435.01\n",
      "INFO:tensorflow:loss = 126.39943, step = 10001 (0.070 sec)\n",
      "INFO:tensorflow:global_step/sec: 1546.26\n",
      "INFO:tensorflow:loss = 140.24911, step = 10101 (0.064 sec)\n",
      "INFO:tensorflow:global_step/sec: 1546.28\n",
      "INFO:tensorflow:loss = 112.8607, step = 10201 (0.065 sec)\n",
      "INFO:tensorflow:global_step/sec: 1608.61\n",
      "INFO:tensorflow:loss = 109.48314, step = 10301 (0.062 sec)\n",
      "INFO:tensorflow:global_step/sec: 1534.36\n",
      "INFO:tensorflow:loss = 161.71906, step = 10401 (0.065 sec)\n",
      "INFO:tensorflow:global_step/sec: 1511.12\n",
      "INFO:tensorflow:loss = 121.707, step = 10501 (0.066 sec)\n",
      "INFO:tensorflow:global_step/sec: 1583.08\n",
      "INFO:tensorflow:loss = 110.49291, step = 10601 (0.064 sec)\n",
      "INFO:tensorflow:global_step/sec: 1445.4\n",
      "INFO:tensorflow:loss = 110.219315, step = 10701 (0.069 sec)\n",
      "INFO:tensorflow:global_step/sec: 1394.9\n",
      "INFO:tensorflow:loss = 144.40256, step = 10801 (0.072 sec)\n",
      "INFO:tensorflow:global_step/sec: 1303.71\n",
      "INFO:tensorflow:loss = 138.6819, step = 10901 (0.079 sec)\n",
      "INFO:tensorflow:global_step/sec: 1445.41\n",
      "INFO:tensorflow:loss = 141.38635, step = 11001 (0.068 sec)\n",
      "INFO:tensorflow:global_step/sec: 1356.93\n",
      "INFO:tensorflow:loss = 127.54462, step = 11101 (0.073 sec)\n",
      "INFO:tensorflow:global_step/sec: 1414.67\n",
      "INFO:tensorflow:loss = 137.0806, step = 11201 (0.070 sec)\n",
      "INFO:tensorflow:global_step/sec: 1347.75\n",
      "INFO:tensorflow:loss = 143.65341, step = 11301 (0.074 sec)\n",
      "INFO:tensorflow:global_step/sec: 1404.7\n",
      "INFO:tensorflow:loss = 121.88659, step = 11401 (0.071 sec)\n",
      "INFO:tensorflow:global_step/sec: 1499.77\n",
      "INFO:tensorflow:loss = 114.43652, step = 11501 (0.067 sec)\n",
      "INFO:tensorflow:global_step/sec: 1435.03\n",
      "INFO:tensorflow:loss = 148.82898, step = 11601 (0.070 sec)\n",
      "INFO:tensorflow:global_step/sec: 1595.73\n",
      "INFO:tensorflow:loss = 157.36768, step = 11701 (0.063 sec)\n",
      "INFO:tensorflow:global_step/sec: 1734.5\n",
      "INFO:tensorflow:loss = 190.69522, step = 11801 (0.058 sec)\n",
      "INFO:tensorflow:global_step/sec: 1534.37\n",
      "INFO:tensorflow:loss = 140.13882, step = 11901 (0.065 sec)\n",
      "INFO:tensorflow:global_step/sec: 1445.42\n",
      "INFO:tensorflow:loss = 132.5121, step = 12001 (0.069 sec)\n",
      "INFO:tensorflow:global_step/sec: 1445.41\n",
      "INFO:tensorflow:loss = 96.07146, step = 12101 (0.069 sec)\n",
      "INFO:tensorflow:global_step/sec: 1690.41\n",
      "INFO:tensorflow:loss = 122.05713, step = 12201 (0.059 sec)\n",
      "INFO:tensorflow:global_step/sec: 1676.19\n",
      "INFO:tensorflow:loss = 146.59782, step = 12301 (0.060 sec)\n",
      "INFO:tensorflow:global_step/sec: 1595.74\n",
      "INFO:tensorflow:loss = 129.50568, step = 12401 (0.063 sec)\n",
      "INFO:tensorflow:global_step/sec: 1595.75\n",
      "INFO:tensorflow:loss = 126.40045, step = 12501 (0.063 sec)\n",
      "INFO:tensorflow:global_step/sec: 1662.22\n",
      "INFO:tensorflow:loss = 123.2225, step = 12601 (0.060 sec)\n",
      "INFO:tensorflow:global_step/sec: 1634.99\n",
      "INFO:tensorflow:loss = 213.94728, step = 12701 (0.061 sec)\n",
      "INFO:tensorflow:global_step/sec: 1634.98\n",
      "INFO:tensorflow:loss = 122.224075, step = 12801 (0.061 sec)\n",
      "INFO:tensorflow:global_step/sec: 1662.25\n",
      "INFO:tensorflow:loss = 121.83309, step = 12901 (0.060 sec)\n",
      "INFO:tensorflow:global_step/sec: 1534.35\n",
      "INFO:tensorflow:loss = 122.80685, step = 13001 (0.065 sec)\n",
      "INFO:tensorflow:global_step/sec: 1366.22\n",
      "INFO:tensorflow:loss = 145.97662, step = 13101 (0.073 sec)\n",
      "INFO:tensorflow:global_step/sec: 1511.12\n",
      "INFO:tensorflow:loss = 127.79325, step = 13201 (0.066 sec)\n",
      "INFO:tensorflow:global_step/sec: 1558.35\n",
      "INFO:tensorflow:loss = 119.845184, step = 13301 (0.064 sec)\n",
      "INFO:tensorflow:global_step/sec: 1704.84\n",
      "INFO:tensorflow:loss = 137.21332, step = 13401 (0.059 sec)\n",
      "INFO:tensorflow:global_step/sec: 1690.43\n",
      "INFO:tensorflow:loss = 136.78815, step = 13501 (0.059 sec)\n",
      "INFO:tensorflow:global_step/sec: 1424.76\n",
      "INFO:tensorflow:loss = 167.64075, step = 13601 (0.070 sec)\n",
      "INFO:tensorflow:global_step/sec: 1511.11\n",
      "INFO:tensorflow:loss = 113.27425, step = 13701 (0.066 sec)\n",
      "INFO:tensorflow:global_step/sec: 1455.99\n",
      "INFO:tensorflow:loss = 108.34787, step = 13801 (0.068 sec)\n",
      "INFO:tensorflow:global_step/sec: 1435.02\n",
      "INFO:tensorflow:loss = 144.3541, step = 13901 (0.070 sec)\n",
      "INFO:tensorflow:global_step/sec: 1690.39\n",
      "INFO:tensorflow:loss = 111.219376, step = 14001 (0.059 sec)\n",
      "INFO:tensorflow:global_step/sec: 1366.23\n",
      "INFO:tensorflow:loss = 168.44638, step = 14101 (0.073 sec)\n",
      "INFO:tensorflow:global_step/sec: 1445.41\n",
      "INFO:tensorflow:loss = 130.49101, step = 14201 (0.069 sec)\n",
      "INFO:tensorflow:global_step/sec: 1404.71\n",
      "INFO:tensorflow:loss = 146.45523, step = 14301 (0.071 sec)\n",
      "INFO:tensorflow:global_step/sec: 1690.41\n",
      "INFO:tensorflow:loss = 129.43489, step = 14401 (0.059 sec)\n",
      "INFO:tensorflow:global_step/sec: 1347.76\n",
      "INFO:tensorflow:loss = 137.04855, step = 14501 (0.075 sec)\n",
      "INFO:tensorflow:global_step/sec: 1347.76\n",
      "INFO:tensorflow:loss = 146.44032, step = 14601 (0.074 sec)\n",
      "INFO:tensorflow:global_step/sec: 1366.22\n",
      "INFO:tensorflow:loss = 115.29608, step = 14701 (0.075 sec)\n",
      "INFO:tensorflow:global_step/sec: 1608.6\n",
      "INFO:tensorflow:loss = 130.55547, step = 14801 (0.061 sec)\n",
      "INFO:tensorflow:global_step/sec: 1546.26\n",
      "INFO:tensorflow:loss = 155.6435, step = 14901 (0.065 sec)\n",
      "INFO:tensorflow:global_step/sec: 1312.3\n",
      "INFO:tensorflow:loss = 103.380035, step = 15001 (0.076 sec)\n",
      "INFO:tensorflow:global_step/sec: 1385.19\n",
      "INFO:tensorflow:loss = 126.88866, step = 15101 (0.072 sec)\n",
      "INFO:tensorflow:global_step/sec: 1534.36\n",
      "INFO:tensorflow:loss = 117.109184, step = 15201 (0.065 sec)\n",
      "INFO:tensorflow:global_step/sec: 1356.93\n",
      "INFO:tensorflow:loss = 126.19608, step = 15301 (0.074 sec)\n",
      "INFO:tensorflow:global_step/sec: 1648.5\n",
      "INFO:tensorflow:loss = 136.41504, step = 15401 (0.062 sec)\n",
      "INFO:tensorflow:global_step/sec: 1445.41\n",
      "INFO:tensorflow:loss = 140.99205, step = 15501 (0.068 sec)\n",
      "INFO:tensorflow:global_step/sec: 1394.89\n",
      "INFO:tensorflow:loss = 139.3692, step = 15601 (0.072 sec)\n",
      "INFO:tensorflow:global_step/sec: 1595.73\n",
      "INFO:tensorflow:loss = 144.99265, step = 15701 (0.063 sec)\n",
      "INFO:tensorflow:global_step/sec: 1595.75\n",
      "INFO:tensorflow:loss = 106.86369, step = 15801 (0.064 sec)\n",
      "INFO:tensorflow:global_step/sec: 1375.63\n",
      "INFO:tensorflow:loss = 127.81815, step = 15901 (0.072 sec)\n",
      "INFO:tensorflow:global_step/sec: 1455.98\n",
      "INFO:tensorflow:loss = 139.07977, step = 16001 (0.069 sec)\n",
      "INFO:tensorflow:global_step/sec: 1570.62\n",
      "INFO:tensorflow:loss = 153.29749, step = 16101 (0.063 sec)\n",
      "INFO:tensorflow:global_step/sec: 1511.11\n",
      "INFO:tensorflow:loss = 152.1851, step = 16201 (0.067 sec)\n",
      "INFO:tensorflow:global_step/sec: 1558.34\n",
      "INFO:tensorflow:loss = 123.714035, step = 16301 (0.065 sec)\n",
      "INFO:tensorflow:global_step/sec: 1546.27\n",
      "INFO:tensorflow:loss = 122.78409, step = 16401 (0.064 sec)\n",
      "INFO:tensorflow:global_step/sec: 1385.2\n",
      "INFO:tensorflow:loss = 129.05879, step = 16501 (0.072 sec)\n",
      "INFO:tensorflow:global_step/sec: 1583.06\n",
      "INFO:tensorflow:loss = 146.0162, step = 16601 (0.063 sec)\n",
      "INFO:tensorflow:global_step/sec: 1676.22\n",
      "INFO:tensorflow:loss = 130.99815, step = 16701 (0.061 sec)\n",
      "INFO:tensorflow:global_step/sec: 1477.46\n",
      "INFO:tensorflow:loss = 145.87726, step = 16801 (0.068 sec)\n",
      "INFO:tensorflow:global_step/sec: 1424.84\n",
      "INFO:tensorflow:loss = 163.45924, step = 16901 (0.070 sec)\n",
      "INFO:tensorflow:global_step/sec: 1445.42\n",
      "INFO:tensorflow:loss = 115.63879, step = 17001 (0.069 sec)\n",
      "INFO:tensorflow:global_step/sec: 1488.56\n",
      "INFO:tensorflow:loss = 146.8712, step = 17101 (0.067 sec)\n",
      "INFO:tensorflow:global_step/sec: 1499.77\n",
      "INFO:tensorflow:loss = 151.45984, step = 17201 (0.067 sec)\n",
      "INFO:tensorflow:global_step/sec: 1570.6\n",
      "INFO:tensorflow:loss = 129.62418, step = 17301 (0.064 sec)\n",
      "INFO:tensorflow:global_step/sec: 1511.14\n",
      "INFO:tensorflow:loss = 108.00336, step = 17401 (0.067 sec)\n",
      "INFO:tensorflow:global_step/sec: 1356.92\n",
      "INFO:tensorflow:loss = 156.89056, step = 17501 (0.073 sec)\n",
      "INFO:tensorflow:global_step/sec: 1404.7\n",
      "INFO:tensorflow:loss = 179.1295, step = 17601 (0.071 sec)\n",
      "INFO:tensorflow:global_step/sec: 1881.77\n",
      "INFO:tensorflow:loss = 136.142, step = 17701 (0.053 sec)\n",
      "INFO:tensorflow:global_step/sec: 1634.99\n",
      "INFO:tensorflow:loss = 124.32172, step = 17801 (0.062 sec)\n",
      "INFO:tensorflow:global_step/sec: 1583.05\n",
      "INFO:tensorflow:loss = 105.09473, step = 17901 (0.063 sec)\n",
      "INFO:tensorflow:global_step/sec: 1719.56\n",
      "INFO:tensorflow:loss = 104.967224, step = 18001 (0.059 sec)\n",
      "INFO:tensorflow:global_step/sec: 1385.21\n"
     ]
    },
    {
     "name": "stdout",
     "output_type": "stream",
     "text": [
      "INFO:tensorflow:loss = 138.97914, step = 18101 (0.072 sec)\n",
      "INFO:tensorflow:global_step/sec: 1704.84\n",
      "INFO:tensorflow:loss = 122.242165, step = 18201 (0.058 sec)\n",
      "INFO:tensorflow:global_step/sec: 1466.67\n",
      "INFO:tensorflow:loss = 110.21301, step = 18301 (0.068 sec)\n",
      "INFO:tensorflow:global_step/sec: 1445.42\n",
      "INFO:tensorflow:loss = 92.76485, step = 18401 (0.070 sec)\n",
      "INFO:tensorflow:global_step/sec: 1466.68\n",
      "INFO:tensorflow:loss = 137.64128, step = 18501 (0.068 sec)\n",
      "INFO:tensorflow:global_step/sec: 1356.93\n",
      "INFO:tensorflow:loss = 134.66586, step = 18601 (0.074 sec)\n",
      "INFO:tensorflow:global_step/sec: 1404.71\n",
      "INFO:tensorflow:loss = 140.28549, step = 18701 (0.071 sec)\n",
      "INFO:tensorflow:global_step/sec: 1366.22\n",
      "INFO:tensorflow:loss = 142.26088, step = 18801 (0.073 sec)\n",
      "INFO:tensorflow:global_step/sec: 1511.12\n",
      "INFO:tensorflow:loss = 107.79576, step = 18901 (0.066 sec)\n",
      "INFO:tensorflow:global_step/sec: 1414.66\n",
      "INFO:tensorflow:loss = 137.6185, step = 19001 (0.071 sec)\n",
      "INFO:tensorflow:global_step/sec: 1424.77\n",
      "INFO:tensorflow:loss = 119.40379, step = 19101 (0.071 sec)\n",
      "INFO:tensorflow:global_step/sec: 1477.54\n",
      "INFO:tensorflow:loss = 136.34671, step = 19201 (0.067 sec)\n",
      "INFO:tensorflow:global_step/sec: 1424.77\n",
      "INFO:tensorflow:loss = 135.34206, step = 19301 (0.070 sec)\n",
      "INFO:tensorflow:global_step/sec: 1329.79\n",
      "INFO:tensorflow:loss = 118.008804, step = 19401 (0.075 sec)\n",
      "INFO:tensorflow:global_step/sec: 1477.52\n",
      "INFO:tensorflow:loss = 136.28677, step = 19501 (0.068 sec)\n",
      "INFO:tensorflow:global_step/sec: 1608.63\n",
      "INFO:tensorflow:loss = 126.64348, step = 19601 (0.062 sec)\n",
      "INFO:tensorflow:global_step/sec: 1488.56\n",
      "INFO:tensorflow:loss = 112.98584, step = 19701 (0.067 sec)\n",
      "INFO:tensorflow:global_step/sec: 1595.73\n",
      "INFO:tensorflow:loss = 134.78087, step = 19801 (0.063 sec)\n",
      "INFO:tensorflow:global_step/sec: 1608.63\n",
      "INFO:tensorflow:loss = 102.64833, step = 19901 (0.062 sec)\n",
      "INFO:tensorflow:global_step/sec: 1621.69\n",
      "INFO:tensorflow:loss = 151.05238, step = 20001 (0.062 sec)\n",
      "INFO:tensorflow:global_step/sec: 1424.77\n",
      "INFO:tensorflow:loss = 111.14322, step = 20101 (0.070 sec)\n",
      "INFO:tensorflow:global_step/sec: 1488.57\n",
      "INFO:tensorflow:loss = 113.3685, step = 20201 (0.068 sec)\n",
      "INFO:tensorflow:global_step/sec: 1583.09\n",
      "INFO:tensorflow:loss = 151.32751, step = 20301 (0.063 sec)\n",
      "INFO:tensorflow:global_step/sec: 1676.19\n",
      "INFO:tensorflow:loss = 167.02103, step = 20401 (0.059 sec)\n",
      "INFO:tensorflow:global_step/sec: 1608.63\n",
      "INFO:tensorflow:loss = 128.83559, step = 20501 (0.063 sec)\n",
      "INFO:tensorflow:global_step/sec: 1375.64\n",
      "INFO:tensorflow:loss = 112.71337, step = 20601 (0.072 sec)\n",
      "INFO:tensorflow:global_step/sec: 1595.74\n",
      "INFO:tensorflow:loss = 117.995056, step = 20701 (0.063 sec)\n",
      "INFO:tensorflow:global_step/sec: 1608.6\n",
      "INFO:tensorflow:loss = 126.39646, step = 20801 (0.063 sec)\n",
      "INFO:tensorflow:global_step/sec: 1522.66\n",
      "INFO:tensorflow:loss = 149.09908, step = 20901 (0.065 sec)\n",
      "INFO:tensorflow:global_step/sec: 1546.25\n",
      "INFO:tensorflow:loss = 127.51447, step = 21001 (0.065 sec)\n",
      "INFO:tensorflow:global_step/sec: 1676.23\n",
      "INFO:tensorflow:loss = 123.25166, step = 21101 (0.060 sec)\n",
      "INFO:tensorflow:global_step/sec: 1488.56\n",
      "INFO:tensorflow:loss = 132.4224, step = 21201 (0.067 sec)\n",
      "INFO:tensorflow:global_step/sec: 1347.76\n",
      "INFO:tensorflow:loss = 107.14754, step = 21301 (0.074 sec)\n",
      "INFO:tensorflow:global_step/sec: 1534.37\n",
      "INFO:tensorflow:loss = 108.00987, step = 21401 (0.065 sec)\n",
      "INFO:tensorflow:global_step/sec: 1595.74\n",
      "INFO:tensorflow:loss = 133.55536, step = 21501 (0.064 sec)\n",
      "INFO:tensorflow:global_step/sec: 1534.37\n",
      "INFO:tensorflow:loss = 132.55045, step = 21601 (0.065 sec)\n",
      "INFO:tensorflow:global_step/sec: 1385.19\n",
      "INFO:tensorflow:loss = 133.92903, step = 21701 (0.072 sec)\n",
      "INFO:tensorflow:global_step/sec: 1488.57\n",
      "INFO:tensorflow:loss = 136.7594, step = 21801 (0.068 sec)\n",
      "INFO:tensorflow:global_step/sec: 1466.68\n",
      "INFO:tensorflow:loss = 121.93777, step = 21901 (0.068 sec)\n",
      "INFO:tensorflow:Saving checkpoints for 22000 into C:\\Users\\Q-Admin\\AppData\\Local\\Temp\\tmpu_25np6h\\model.ckpt.\n",
      "INFO:tensorflow:Loss for final step: 130.0611.\n"
     ]
    },
    {
     "data": {
      "text/plain": [
       "<tensorflow.python.estimator.canned.linear.LinearRegressor at 0xf5715d89e8>"
      ]
     },
     "execution_count": 66,
     "metadata": {},
     "output_type": "execute_result"
    }
   ],
   "source": [
    "estimator.train(input_fn=input_func,steps=20000)"
   ]
  },
  {
   "cell_type": "code",
   "execution_count": 75,
   "metadata": {},
   "outputs": [
    {
     "name": "stdout",
     "output_type": "stream",
     "text": [
      "INFO:tensorflow:Calling model_fn.\n",
      "INFO:tensorflow:Done calling model_fn.\n",
      "INFO:tensorflow:Starting evaluation at 2018-06-05-06:32:40\n",
      "INFO:tensorflow:Graph was finalized.\n",
      "INFO:tensorflow:Restoring parameters from C:\\Users\\Q-Admin\\AppData\\Local\\Temp\\tmpu_25np6h\\model.ckpt-22000\n",
      "INFO:tensorflow:Running local_init_op.\n",
      "INFO:tensorflow:Done running local_init_op.\n",
      "INFO:tensorflow:Evaluation [100/1000]\n",
      "INFO:tensorflow:Evaluation [200/1000]\n",
      "INFO:tensorflow:Evaluation [300/1000]\n",
      "INFO:tensorflow:Evaluation [400/1000]\n",
      "INFO:tensorflow:Evaluation [500/1000]\n",
      "INFO:tensorflow:Evaluation [600/1000]\n",
      "INFO:tensorflow:Evaluation [700/1000]\n",
      "INFO:tensorflow:Evaluation [800/1000]\n",
      "INFO:tensorflow:Evaluation [900/1000]\n",
      "INFO:tensorflow:Evaluation [1000/1000]\n",
      "INFO:tensorflow:Finished evaluation at 2018-06-05-06:32:41\n",
      "INFO:tensorflow:Saving dict for global step 22000: average_loss = 1.0019237, global_step = 22000, loss = 128.24623\n"
     ]
    }
   ],
   "source": [
    "train_metrics=estimator.evaluate(input_fn=train_input_func,steps=1000)"
   ]
  },
  {
   "cell_type": "code",
   "execution_count": 74,
   "metadata": {},
   "outputs": [
    {
     "name": "stdout",
     "output_type": "stream",
     "text": [
      "INFO:tensorflow:Calling model_fn.\n",
      "INFO:tensorflow:Done calling model_fn.\n",
      "INFO:tensorflow:Starting evaluation at 2018-06-05-06:32:25\n",
      "INFO:tensorflow:Graph was finalized.\n",
      "INFO:tensorflow:Restoring parameters from C:\\Users\\Q-Admin\\AppData\\Local\\Temp\\tmpu_25np6h\\model.ckpt-22000\n",
      "INFO:tensorflow:Running local_init_op.\n",
      "INFO:tensorflow:Done running local_init_op.\n",
      "INFO:tensorflow:Evaluation [1000/10000]\n",
      "INFO:tensorflow:Evaluation [2000/10000]\n",
      "INFO:tensorflow:Evaluation [3000/10000]\n",
      "INFO:tensorflow:Evaluation [4000/10000]\n",
      "INFO:tensorflow:Evaluation [5000/10000]\n",
      "INFO:tensorflow:Evaluation [6000/10000]\n",
      "INFO:tensorflow:Evaluation [7000/10000]\n",
      "INFO:tensorflow:Evaluation [8000/10000]\n",
      "INFO:tensorflow:Evaluation [9000/10000]\n",
      "INFO:tensorflow:Evaluation [10000/10000]\n",
      "INFO:tensorflow:Finished evaluation at 2018-06-05-06:32:29\n",
      "INFO:tensorflow:Saving dict for global step 22000: average_loss = 1.0004661, global_step = 22000, loss = 128.05966\n"
     ]
    }
   ],
   "source": [
    "test_metrics=estimator.evaluate(input_fn=test_input_func,steps=10000)"
   ]
  },
  {
   "cell_type": "code",
   "execution_count": 77,
   "metadata": {},
   "outputs": [
    {
     "name": "stdout",
     "output_type": "stream",
     "text": [
      "Training data metrics:  {'average_loss': 1.0019237, 'loss': 128.24623, 'global_step': 22000}\n",
      "Test data metrics:  {'average_loss': 1.0004661, 'loss': 128.05966, 'global_step': 22000}\n"
     ]
    }
   ],
   "source": [
    "print('Training data metrics: ',train_metrics)\n",
    "print('Test data metrics: ',test_metrics)"
   ]
  },
  {
   "cell_type": "code",
   "execution_count": 82,
   "metadata": {},
   "outputs": [],
   "source": [
    "brand_new_data=np.linspace(0,500,10)\n",
    "brand_func=tf.estimator.inputs.numpy_input_fn({'x':brand_new_data},shuffle=False)"
   ]
  },
  {
   "cell_type": "code",
   "execution_count": 83,
   "metadata": {},
   "outputs": [
    {
     "name": "stdout",
     "output_type": "stream",
     "text": [
      "INFO:tensorflow:Calling model_fn.\n",
      "INFO:tensorflow:Done calling model_fn.\n",
      "INFO:tensorflow:Graph was finalized.\n",
      "INFO:tensorflow:Restoring parameters from C:\\Users\\Q-Admin\\AppData\\Local\\Temp\\tmpu_25np6h\\model.ckpt-22000\n",
      "INFO:tensorflow:Running local_init_op.\n",
      "INFO:tensorflow:Done running local_init_op.\n"
     ]
    },
    {
     "data": {
      "text/plain": [
       "[{'predictions': array([4.987309], dtype=float32)},\n",
       " {'predictions': array([32.777004], dtype=float32)},\n",
       " {'predictions': array([60.5667], dtype=float32)},\n",
       " {'predictions': array([88.3564], dtype=float32)},\n",
       " {'predictions': array([116.146095], dtype=float32)},\n",
       " {'predictions': array([143.93578], dtype=float32)},\n",
       " {'predictions': array([171.72548], dtype=float32)},\n",
       " {'predictions': array([199.51517], dtype=float32)},\n",
       " {'predictions': array([227.30487], dtype=float32)},\n",
       " {'predictions': array([255.09456], dtype=float32)}]"
      ]
     },
     "execution_count": 83,
     "metadata": {},
     "output_type": "execute_result"
    }
   ],
   "source": [
    "list(estimator.predict(input_fn=brand_func))"
   ]
  },
  {
   "cell_type": "code",
   "execution_count": 84,
   "metadata": {},
   "outputs": [
    {
     "name": "stdout",
     "output_type": "stream",
     "text": [
      "INFO:tensorflow:Calling model_fn.\n",
      "INFO:tensorflow:Done calling model_fn.\n",
      "INFO:tensorflow:Graph was finalized.\n",
      "INFO:tensorflow:Restoring parameters from C:\\Users\\Q-Admin\\AppData\\Local\\Temp\\tmpu_25np6h\\model.ckpt-22000\n",
      "INFO:tensorflow:Running local_init_op.\n",
      "INFO:tensorflow:Done running local_init_op.\n"
     ]
    }
   ],
   "source": [
    "predictions=[]\n",
    "for pred in estimator.predict(input_fn=brand_func):\n",
    "    predictions.append(pred['predictions'])"
   ]
  },
  {
   "cell_type": "code",
   "execution_count": 86,
   "metadata": {},
   "outputs": [
    {
     "data": {
      "text/plain": [
       "[<matplotlib.lines.Line2D at 0xf57299e898>]"
      ]
     },
     "execution_count": 86,
     "metadata": {},
     "output_type": "execute_result"
    },
    {
     "data": {
      "image/png": "[encoded data removed]",
      "text/plain": [
       "<matplotlib.figure.Figure at 0xf5732e9c18>"
      ]
     },
     "metadata": {},
     "output_type": "display_data"
    }
   ],
   "source": [
    "data.sample(200).plot(kind='scatter',x='X',y='Y')\n",
    "plt.plot(brand_new_data,predictions,'r')"
   ]
  },
  {
   "cell_type": "code",
   "execution_count": null,
   "metadata": {},
   "outputs": [],
   "source": []
  }
 ],
 "metadata": {
  "kernelspec": {
   "display_name": "Python 3",
   "language": "python",
   "name": "python3"
  },
  "language_info": {
   "codemirror_mode": {
    "name": "ipython",
    "version": 3
   },
   "file_extension": ".py",
   "mimetype": "text/x-python",
   "name": "python",
   "nbconvert_exporter": "python",
   "pygments_lexer": "ipython3",
   "version": "3.6.5"
  }
 },
 "nbformat": 4,
 "nbformat_minor": 2
}
