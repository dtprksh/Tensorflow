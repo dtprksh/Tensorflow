{
 "cells": [
  {
   "cell_type": "code",
   "execution_count": 1,
   "metadata": {},
   "outputs": [
    {
     "name": "stderr",
     "output_type": "stream",
     "text": [
      "/home/aditya/anaconda3/lib/python3.6/site-packages/h5py/__init__.py:36: FutureWarning: Conversion of the second argument of issubdtype from `float` to `np.floating` is deprecated. In future, it will be treated as `np.float64 == np.dtype(float).type`.\n",
      "  from ._conv import register_converters as _register_converters\n"
     ]
    }
   ],
   "source": [
    "import os\n",
    "import tensorflow as tf\n",
    "import numpy as np "
   ]
  },
  {
   "cell_type": "code",
   "execution_count": 2,
   "metadata": {},
   "outputs": [],
   "source": [
    "os.chdir('/home/aditya/Downloads/TensorflowDatasets/train')"
   ]
  },
  {
   "cell_type": "markdown",
   "metadata": {},
   "source": [
    "### Extracting Filenames and Classes"
   ]
  },
  {
   "cell_type": "code",
   "execution_count": 3,
   "metadata": {},
   "outputs": [],
   "source": [
    "classes=[]\n",
    "images=[]\n",
    "for i in os.listdir('/home/aditya/Downloads/TensorflowDatasets/train'):\n",
    "    filename=tf.read_file(i)\n",
    "    images.append(filename)\n",
    "    if i[0]=='c':\n",
    "        classes.append(0)\n",
    "    else:\n",
    "        classes.append(1)"
   ]
  },
  {
   "cell_type": "markdown",
   "metadata": {},
   "source": [
    "### One_hot encoding of Classes"
   ]
  },
  {
   "cell_type": "code",
   "execution_count": 4,
   "metadata": {},
   "outputs": [],
   "source": [
    "y_true=tf.one_hot(classes,2)"
   ]
  },
  {
   "cell_type": "code",
   "execution_count": 5,
   "metadata": {},
   "outputs": [
    {
     "data": {
      "text/plain": [
       "<tf.Tensor 'ReadFile_1:0' shape=() dtype=string>"
      ]
     },
     "execution_count": 5,
     "metadata": {},
     "output_type": "execute_result"
    }
   ],
   "source": [
    "images[1]"
   ]
  },
  {
   "cell_type": "markdown",
   "metadata": {},
   "source": [
    "### Creating Training(24000 images) and Validation Datasets(1000 images)"
   ]
  },
  {
   "cell_type": "code",
   "execution_count": 6,
   "metadata": {},
   "outputs": [],
   "source": [
    "dataset = tf.data.Dataset.from_tensor_slices((images[:24000], y_true[:24000]))\n",
    "validation_dataset = tf.data.Dataset.from_tensor_slices((images[24000:25000], y_true[24000:25000]))"
   ]
  },
  {
   "cell_type": "code",
   "execution_count": 7,
   "metadata": {},
   "outputs": [
    {
     "data": {
      "text/plain": [
       "25000"
      ]
     },
     "execution_count": 7,
     "metadata": {},
     "output_type": "execute_result"
    }
   ],
   "source": [
    "len(images)"
   ]
  },
  {
   "cell_type": "code",
   "execution_count": 8,
   "metadata": {},
   "outputs": [
    {
     "data": {
      "text/plain": [
       "<TensorSliceDataset shapes: ((), (2,)), types: (tf.string, tf.float32)>"
      ]
     },
     "execution_count": 8,
     "metadata": {},
     "output_type": "execute_result"
    }
   ],
   "source": [
    "dataset"
   ]
  },
  {
   "cell_type": "markdown",
   "metadata": {},
   "source": [
    "### Getting Images from Filenames"
   ]
  },
  {
   "cell_type": "code",
   "execution_count": 9,
   "metadata": {},
   "outputs": [],
   "source": [
    "def parse_function(images, y_true):\n",
    "    image = tf.image.decode_jpeg(images, channels=3)\n",
    "    image = tf.image.convert_image_dtype(image, tf.float32)\n",
    "    image = tf.image.resize_images(image, [64, 64])\n",
    "    return image, y_true"
   ]
  },
  {
   "cell_type": "code",
   "execution_count": 10,
   "metadata": {},
   "outputs": [],
   "source": [
    "dataset = dataset.map(parse_function, num_parallel_calls=4)\n",
    "validation_dataset = validation_dataset.map(parse_function, num_parallel_calls=4)"
   ]
  },
  {
   "cell_type": "markdown",
   "metadata": {},
   "source": [
    "### Augmentation(Flip_up_down,Flip_Left_Right,Brightness,Saturation) with 50% chance. "
   ]
  },
  {
   "cell_type": "code",
   "execution_count": 11,
   "metadata": {},
   "outputs": [],
   "source": [
    "def train_preprocess(image, y_true):\n",
    "    a=np.random.randint(1,5)\n",
    "    b=np.random.randint(1,3)\n",
    "    if b==1:\n",
    "        image=image\n",
    "    else:\n",
    "        if a==1:\n",
    "            image = tf.image.random_flip_left_right(image)\n",
    "        elif a==2:\n",
    "            image = tf.image.random_brightness(image, max_delta=32.0 / 255.0)\n",
    "        elif a==3:\n",
    "            image = tf.image.random_saturation(image, lower=0.5, upper=1.5)\n",
    "        else:\n",
    "            image = tf.image.random_flip_up_down(image)\n",
    "    image = tf.clip_by_value(image, 0.0, 1.0)\n",
    "    return image,y_true"
   ]
  },
  {
   "cell_type": "code",
   "execution_count": 12,
   "metadata": {},
   "outputs": [],
   "source": [
    "dataset = dataset.map(train_preprocess, num_parallel_calls=2)"
   ]
  },
  {
   "cell_type": "code",
   "execution_count": 13,
   "metadata": {},
   "outputs": [
    {
     "data": {
      "text/plain": [
       "<ParallelMapDataset shapes: ((64, 64, 3), (2,)), types: (tf.float32, tf.float32)>"
      ]
     },
     "execution_count": 13,
     "metadata": {},
     "output_type": "execute_result"
    }
   ],
   "source": [
    "dataset"
   ]
  },
  {
   "cell_type": "markdown",
   "metadata": {},
   "source": [
    "### Shuffling Dataset"
   ]
  },
  {
   "cell_type": "code",
   "execution_count": 14,
   "metadata": {},
   "outputs": [],
   "source": [
    "dataset=dataset.shuffle(24000)"
   ]
  },
  {
   "cell_type": "markdown",
   "metadata": {},
   "source": [
    "### Batchsize=16"
   ]
  },
  {
   "cell_type": "code",
   "execution_count": 15,
   "metadata": {},
   "outputs": [],
   "source": [
    "dataset=dataset.batch(16)"
   ]
  },
  {
   "cell_type": "code",
   "execution_count": 16,
   "metadata": {},
   "outputs": [
    {
     "data": {
      "text/plain": [
       "<BatchDataset shapes: ((?, 64, 64, 3), (?, 2)), types: (tf.float32, tf.float32)>"
      ]
     },
     "execution_count": 16,
     "metadata": {},
     "output_type": "execute_result"
    }
   ],
   "source": [
    "dataset"
   ]
  },
  {
   "cell_type": "markdown",
   "metadata": {},
   "source": [
    "### Reinitializable Iterator"
   ]
  },
  {
   "cell_type": "code",
   "execution_count": 17,
   "metadata": {},
   "outputs": [],
   "source": [
    "iterator = tf.data.Iterator.from_structure(dataset.output_types,\n",
    "                                           dataset.output_shapes)\n",
    "X,y = iterator.get_next()"
   ]
  },
  {
   "cell_type": "code",
   "execution_count": 18,
   "metadata": {},
   "outputs": [
    {
     "data": {
      "text/plain": [
       "<tf.Tensor 'IteratorGetNext:1' shape=(?, 2) dtype=float32>"
      ]
     },
     "execution_count": 18,
     "metadata": {},
     "output_type": "execute_result"
    }
   ],
   "source": [
    "y"
   ]
  },
  {
   "cell_type": "code",
   "execution_count": 19,
   "metadata": {},
   "outputs": [
    {
     "data": {
      "text/plain": [
       "'/home/aditya/Downloads/TensorflowDatasets/train'"
      ]
     },
     "execution_count": 19,
     "metadata": {},
     "output_type": "execute_result"
    }
   ],
   "source": [
    "os.getcwd()"
   ]
  },
  {
   "cell_type": "code",
   "execution_count": 20,
   "metadata": {},
   "outputs": [
    {
     "data": {
      "text/plain": [
       "<BatchDataset shapes: ((?, 64, 64, 3), (?, 2)), types: (tf.float32, tf.float32)>"
      ]
     },
     "execution_count": 20,
     "metadata": {},
     "output_type": "execute_result"
    }
   ],
   "source": [
    "dataset"
   ]
  },
  {
   "cell_type": "code",
   "execution_count": 21,
   "metadata": {},
   "outputs": [],
   "source": [
    "X=tf.reshape(X,[-1,64,64,3])"
   ]
  },
  {
   "cell_type": "markdown",
   "metadata": {},
   "source": [
    "### VGG 1st Layer + 1 Fully Connected into Prediction"
   ]
  },
  {
   "cell_type": "code",
   "execution_count": 22,
   "metadata": {},
   "outputs": [],
   "source": [
    "conv1=tf.layers.conv2d(X,64,3)\n",
    "conv2=tf.layers.conv2d(conv1,64,3)\n",
    "maxpool1=tf.layers.max_pooling2d(conv2,[2,2],[2,2])\n",
    "flat=tf.layers.flatten(maxpool1)\n",
    "dense1=tf.layers.dense(flat,1024)\n",
    "y_pred=tf.layers.dense(dense1,2)"
   ]
  },
  {
   "cell_type": "code",
   "execution_count": 23,
   "metadata": {},
   "outputs": [
    {
     "data": {
      "text/plain": [
       "<tf.Tensor 'dense_1/BiasAdd:0' shape=(?, 2) dtype=float32>"
      ]
     },
     "execution_count": 23,
     "metadata": {},
     "output_type": "execute_result"
    }
   ],
   "source": [
    "y_pred"
   ]
  },
  {
   "cell_type": "code",
   "execution_count": 24,
   "metadata": {},
   "outputs": [
    {
     "data": {
      "text/plain": [
       "<tf.Tensor 'one_hot:0' shape=(25000, 2) dtype=float32>"
      ]
     },
     "execution_count": 24,
     "metadata": {},
     "output_type": "execute_result"
    }
   ],
   "source": [
    "y_true"
   ]
  },
  {
   "cell_type": "markdown",
   "metadata": {},
   "source": [
    "### Initializing Iterator"
   ]
  },
  {
   "cell_type": "code",
   "execution_count": 25,
   "metadata": {},
   "outputs": [],
   "source": [
    "validation_dataset=validation_dataset.batch(16)\n",
    "training_init_op = iterator.make_initializer(dataset)\n",
    "validation_init_op = iterator.make_initializer(validation_dataset)"
   ]
  },
  {
   "cell_type": "markdown",
   "metadata": {},
   "source": [
    "### Training and Loss(Softmax)"
   ]
  },
  {
   "cell_type": "code",
   "execution_count": 26,
   "metadata": {},
   "outputs": [
    {
     "name": "stdout",
     "output_type": "stream",
     "text": [
      "WARNING:tensorflow:From <ipython-input-26-6e299ff67755>:1: softmax_cross_entropy_with_logits (from tensorflow.python.ops.nn_ops) is deprecated and will be removed in a future version.\n",
      "Instructions for updating:\n",
      "\n",
      "Future major versions of TensorFlow will allow gradients to flow\n",
      "into the labels input on backprop by default.\n",
      "\n",
      "See @{tf.nn.softmax_cross_entropy_with_logits_v2}.\n",
      "\n"
     ]
    }
   ],
   "source": [
    "loss_op=tf.reduce_mean(tf.nn.softmax_cross_entropy_with_logits(labels=y,logits=y_pred))\n",
    "train_op=tf.train.AdamOptimizer().minimize(loss_op) "
   ]
  },
  {
   "cell_type": "markdown",
   "metadata": {},
   "source": [
    "### Accuracy "
   ]
  },
  {
   "cell_type": "code",
   "execution_count": 27,
   "metadata": {},
   "outputs": [],
   "source": [
    "prediction=tf.equal(tf.argmax(y_pred,1),tf.argmax(y,1))\n",
    "accuracy=tf.reduce_mean(tf.cast(prediction,tf.float32))"
   ]
  },
  {
   "cell_type": "markdown",
   "metadata": {},
   "source": [
    "### Session"
   ]
  },
  {
   "cell_type": "code",
   "execution_count": 28,
   "metadata": {},
   "outputs": [
    {
     "name": "stdout",
     "output_type": "stream",
     "text": [
      "[None, 0.74075466, 0.375]\n",
      "Validation Batch Accuracy 0.625\n",
      "[None, 181.98828, 0.4375]\n",
      "Validation Batch Accuracy 0.625\n",
      "[None, 22.696287, 0.5]\n",
      "Validation Batch Accuracy 0.375\n",
      "[None, 106.50009, 0.5]\n",
      "Validation Batch Accuracy 0.375\n",
      "[None, 93.057144, 0.4375]\n",
      "Validation Batch Accuracy 0.375\n",
      "[None, 5.702729, 0.5]\n",
      "Validation Batch Accuracy 0.625\n",
      "[None, 102.00393, 0.4375]\n",
      "Validation Batch Accuracy 0.625\n",
      "[None, 131.04788, 0.5]\n",
      "Validation Batch Accuracy 0.625\n",
      "[None, 94.51536, 0.4375]\n",
      "Validation Batch Accuracy 0.625\n",
      "[None, 61.685844, 0.375]\n",
      "Validation Batch Accuracy 0.625\n",
      "[None, 11.103902, 0.5]\n",
      "Validation Batch Accuracy 0.375\n",
      "[None, 28.072628, 0.375]\n",
      "Validation Batch Accuracy 0.375\n",
      "[None, 26.324997, 0.5625]\n",
      "Validation Batch Accuracy 0.375\n",
      "[None, 39.734818, 0.3125]\n",
      "Validation Batch Accuracy 0.5\n",
      "[None, 1.1171906, 0.6875]\n",
      "Validation Batch Accuracy 0.625\n",
      "[None, 27.599487, 0.4375]\n",
      "Validation Batch Accuracy 0.625\n",
      "[None, 23.479893, 0.6875]\n",
      "Validation Batch Accuracy 0.625\n",
      "[None, 28.643478, 0.625]\n",
      "Validation Batch Accuracy 0.625\n",
      "[None, 40.9714, 0.5]\n",
      "Validation Batch Accuracy 0.625\n",
      "[None, 21.138996, 0.5]\n",
      "Validation Batch Accuracy 0.625\n",
      "[None, 4.4709353, 0.6875]\n",
      "Validation Batch Accuracy 0.375\n",
      "[None, 4.1229587, 0.6875]\n",
      "Validation Batch Accuracy 0.375\n",
      "[None, 13.457971, 0.5]\n",
      "Validation Batch Accuracy 0.375\n",
      "[None, 20.685825, 0.3125]\n",
      "Validation Batch Accuracy 0.375\n",
      "[None, 11.912358, 0.5]\n",
      "Validation Batch Accuracy 0.375\n",
      "[None, 7.742715, 0.4375]\n",
      "Validation Batch Accuracy 0.4375\n",
      "[None, 1.6409585, 0.5]\n",
      "Validation Batch Accuracy 0.625\n",
      "[None, 5.8905983, 0.625]\n",
      "Validation Batch Accuracy 0.625\n",
      "[None, 7.5749316, 0.625]\n",
      "Validation Batch Accuracy 0.625\n",
      "[None, 9.326311, 0.5]\n",
      "Validation Batch Accuracy 0.625\n",
      "[None, 10.748301, 0.4375]\n",
      "Validation Batch Accuracy 0.625\n",
      "[None, 4.421322, 0.625]\n",
      "Validation Batch Accuracy 0.625\n",
      "[None, 4.179883, 0.375]\n",
      "Validation Batch Accuracy 0.625\n",
      "[None, 2.2052798, 0.4375]\n",
      "Validation Batch Accuracy 0.3125\n",
      "[None, 1.4060932, 0.5625]\n",
      "Validation Batch Accuracy 0.3125\n",
      "[None, 1.7201211, 0.625]\n",
      "Validation Batch Accuracy 0.3125\n",
      "[None, 2.9169552, 0.4375]\n",
      "Validation Batch Accuracy 0.375\n",
      "[None, 1.246154, 0.75]\n",
      "Validation Batch Accuracy 0.4375\n",
      "[None, 2.1625028, 0.5625]\n",
      "Validation Batch Accuracy 0.3125\n",
      "[None, 1.346825, 0.4375]\n",
      "Validation Batch Accuracy 0.5\n",
      "[None, 2.0011783, 0.5]\n",
      "Validation Batch Accuracy 0.625\n",
      "[None, 1.5120659, 0.5]\n",
      "Validation Batch Accuracy 0.625\n",
      "[None, 2.9943662, 0.4375]\n",
      "Validation Batch Accuracy 0.5625\n",
      "[None, 1.8753148, 0.4375]\n",
      "Validation Batch Accuracy 0.3125\n",
      "[None, 1.3315516, 0.5625]\n",
      "Validation Batch Accuracy 0.4375\n",
      "[None, 1.3377652, 0.625]\n",
      "Validation Batch Accuracy 0.5\n",
      "[None, 1.0651152, 0.625]\n",
      "Validation Batch Accuracy 0.5\n",
      "[None, 0.8911644, 0.625]\n",
      "Validation Batch Accuracy 0.5\n",
      "[None, 1.2085207, 0.625]\n",
      "Validation Batch Accuracy 0.5\n",
      "[None, 0.68856907, 0.625]\n",
      "Validation Batch Accuracy 0.5\n",
      "[None, 0.802125, 0.5625]\n",
      "Validation Batch Accuracy 0.5\n",
      "[None, 1.2094781, 0.4375]\n",
      "Validation Batch Accuracy 0.375\n",
      "[None, 1.1269104, 0.5625]\n",
      "Validation Batch Accuracy 0.3125\n",
      "[None, 1.4103484, 0.5625]\n",
      "Validation Batch Accuracy 0.3125\n",
      "[None, 0.90857637, 0.625]\n",
      "Validation Batch Accuracy 0.375\n",
      "[None, 1.0006592, 0.5]\n",
      "Validation Batch Accuracy 0.4375\n",
      "[None, 0.6161982, 0.625]\n",
      "Validation Batch Accuracy 0.5\n",
      "[None, 0.6680527, 0.5625]\n",
      "Validation Batch Accuracy 0.4375\n",
      "[None, 0.65574306, 0.625]\n",
      "Validation Batch Accuracy 0.5\n",
      "[None, 0.60870266, 0.625]\n",
      "Validation Batch Accuracy 0.5\n",
      "[None, 0.4674502, 0.75]\n",
      "Validation Batch Accuracy 0.5625\n",
      "[None, 1.0755441, 0.5625]\n",
      "Validation Batch Accuracy 0.5625\n",
      "[None, 0.42236978, 0.8125]\n",
      "Validation Batch Accuracy 0.5625\n",
      "[None, 0.49561527, 0.8125]\n",
      "Validation Batch Accuracy 0.5625\n",
      "[None, 0.5394878, 0.625]\n",
      "Validation Batch Accuracy 0.5\n",
      "[None, 1.049047, 0.625]\n",
      "Validation Batch Accuracy 0.5625\n",
      "[None, 1.4821204, 0.5]\n",
      "Validation Batch Accuracy 0.5\n",
      "[None, 0.9015564, 0.625]\n",
      "Validation Batch Accuracy 0.5625\n",
      "[None, 0.9579015, 0.5625]\n",
      "Validation Batch Accuracy 0.5\n",
      "[None, 0.9639103, 0.625]\n",
      "Validation Batch Accuracy 0.625\n",
      "[None, 1.0980642, 0.5625]\n",
      "Validation Batch Accuracy 0.5\n",
      "[None, 0.5518164, 0.6875]\n",
      "Validation Batch Accuracy 0.5\n",
      "[None, 0.5904502, 0.625]\n",
      "Validation Batch Accuracy 0.5\n",
      "[None, 0.6615715, 0.6875]\n",
      "Validation Batch Accuracy 0.5\n",
      "[None, 1.182262, 0.5]\n",
      "Validation Batch Accuracy 0.625\n",
      "[None, 0.6532507, 0.625]\n",
      "Validation Batch Accuracy 0.5625\n",
      "[None, 0.79075885, 0.625]\n",
      "Validation Batch Accuracy 0.5625\n",
      "[None, 0.88961565, 0.5]\n",
      "Validation Batch Accuracy 0.5\n",
      "[None, 1.010127, 0.4375]\n",
      "Validation Batch Accuracy 0.5625\n",
      "[None, 0.6239636, 0.625]\n",
      "Validation Batch Accuracy 0.5\n",
      "[None, 0.69646215, 0.6875]\n",
      "Validation Batch Accuracy 0.625\n",
      "[None, 1.7124556, 0.5]\n",
      "Validation Batch Accuracy 0.5625\n",
      "[None, 1.1220257, 0.5]\n",
      "Validation Batch Accuracy 0.5\n",
      "[None, 0.74771047, 0.5]\n",
      "Validation Batch Accuracy 0.625\n",
      "[None, 0.4484148, 0.8125]\n",
      "Validation Batch Accuracy 0.5625\n",
      "[None, 0.8023481, 0.75]\n",
      "Validation Batch Accuracy 0.5625\n",
      "[None, 0.8666332, 0.6875]\n",
      "Validation Batch Accuracy 0.5\n",
      "[None, 1.229749, 0.5625]\n",
      "Validation Batch Accuracy 0.5625\n",
      "[None, 1.2468467, 0.5625]\n",
      "Validation Batch Accuracy 0.5\n",
      "[None, 0.717232, 0.75]\n",
      "Validation Batch Accuracy 0.5625\n",
      "[None, 0.7657746, 0.625]\n",
      "Validation Batch Accuracy 0.5\n",
      "[None, 0.6003549, 0.6875]\n",
      "Validation Batch Accuracy 0.5625\n",
      "[None, 1.0710841, 0.5]\n",
      "Validation Batch Accuracy 0.5625\n",
      "[None, 0.8929819, 0.4375]\n",
      "Validation Batch Accuracy 0.5625\n",
      "[None, 0.8539411, 0.4375]\n",
      "Validation Batch Accuracy 0.625\n",
      "[None, 0.65339875, 0.625]\n",
      "Validation Batch Accuracy 0.5\n",
      "[None, 0.83294755, 0.5]\n",
      "Validation Batch Accuracy 0.5\n",
      "[None, 0.6421554, 0.75]\n",
      "Validation Batch Accuracy 0.5625\n",
      "[None, 1.2171714, 0.5]\n",
      "Validation Batch Accuracy 0.5625\n",
      "[None, 1.0738857, 0.375]\n",
      "Validation Batch Accuracy 0.625\n"
     ]
    }
   ],
   "source": [
    " with tf.Session() as sess:\n",
    "    sess.run(tf.global_variables_initializer())\n",
    "    for j in range(100):\n",
    "        sess.run(training_init_op)        \n",
    "        print(sess.run([train_op,loss_op,accuracy]))\n",
    "        sess.run(validation_init_op)\n",
    "        print('Validation Batch Accuracy',sess.run(accuracy))"
   ]
  },
  {
   "cell_type": "code",
   "execution_count": 29,
   "metadata": {},
   "outputs": [
    {
     "data": {
      "text/plain": [
       "TensorShape([Dimension(None), Dimension(64), Dimension(64), Dimension(3)])"
      ]
     },
     "execution_count": 29,
     "metadata": {},
     "output_type": "execute_result"
    }
   ],
   "source": [
    "X.shape"
   ]
  },
  {
   "cell_type": "code",
   "execution_count": 30,
   "metadata": {},
   "outputs": [
    {
     "data": {
      "text/plain": [
       "TensorShape([Dimension(None), Dimension(2)])"
      ]
     },
     "execution_count": 30,
     "metadata": {},
     "output_type": "execute_result"
    }
   ],
   "source": [
    "y.shape"
   ]
  },
  {
   "cell_type": "code",
   "execution_count": 31,
   "metadata": {},
   "outputs": [
    {
     "data": {
      "text/plain": [
       "TensorShape([Dimension(None), Dimension(2)])"
      ]
     },
     "execution_count": 31,
     "metadata": {},
     "output_type": "execute_result"
    }
   ],
   "source": [
    "y_pred.shape"
   ]
  },
  {
   "cell_type": "code",
   "execution_count": null,
   "metadata": {},
   "outputs": [],
   "source": []
  }
 ],
 "metadata": {
  "kernelspec": {
   "display_name": "Python 3",
   "language": "python",
   "name": "python3"
  },
  "language_info": {
   "codemirror_mode": {
    "name": "ipython",
    "version": 3
   },
   "file_extension": ".py",
   "mimetype": "text/x-python",
   "name": "python",
   "nbconvert_exporter": "python",
   "pygments_lexer": "ipython3",
   "version": "3.6.5"
  }
 },
 "nbformat": 4,
 "nbformat_minor": 2
}
